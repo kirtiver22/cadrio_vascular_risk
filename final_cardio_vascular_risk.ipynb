{
  "nbformat": 4,
  "nbformat_minor": 0,
  "metadata": {
    "colab": {
      "private_outputs": true,
      "provenance": [],
      "collapsed_sections": [
        "vncDsAP0Gaoa",
        "FJNUwmbgGyua",
        "w6K7xa23Elo4",
        "yQaldy8SH6Dl",
        "mDgbUHAGgjLW",
        "O_i_v8NEhb9l",
        "HhfV-JJviCcP",
        "Y3lxredqlCYt",
        "3RnN4peoiCZX",
        "x71ZqKXriCWQ",
        "7hBIi_osiCS2",
        "JlHwYmJAmNHm",
        "35m5QtbWiB9F",
        "PoPl-ycgm1ru",
        "H0kj-8xxnORC",
        "nA9Y7ga8ng1Z",
        "PBTbrJXOngz2",
        "u3PMJOP6ngxN",
        "dauF4eBmngu3",
        "bKJF3rekwFvQ",
        "MSa1f5Uengrz",
        "GF8Ens_Soomf",
        "0wOQAZs5pc--",
        "K5QZ13OEpz2H",
        "lQ7QKXXCp7Bj",
        "448CDAPjqfQr",
        "KSlN3yHqYklG",
        "t6dVpIINYklI",
        "ijmpgYnKYklI",
        "-JiQyfWJYklI",
        "EM7whBJCYoAo",
        "fge-S5ZAYoAp",
        "85gYPyotYoAp",
        "RoGjAbkUYoAp",
        "4Of9eVA-YrdM",
        "iky9q4vBYrdO",
        "F6T5p64dYrdO",
        "y-Ehk30pYrdP",
        "bamQiAODYuh1",
        "QHF8YVU7Yuh3",
        "GwzvFGzlYuh3",
        "qYpmQ266Yuh3",
        "OH-pJp9IphqM",
        "bbFf2-_FphqN",
        "_ouA3fa0phqN",
        "Seke61FWphqN",
        "PIIx-8_IphqN",
        "t27r6nlMphqO",
        "r2jJGEOYphqO",
        "b0JNsNcRphqO",
        "BZR9WyysphqO",
        "jj7wYXLtphqO",
        "eZrbJ2SmphqO",
        "rFu4xreNphqO",
        "YJ55k-q6phqO",
        "gCFgpxoyphqP",
        "OVtJsKN_phqQ",
        "lssrdh5qphqQ",
        "U2RJ9gkRphqQ",
        "1M8mcRywphqQ",
        "tgIPom80phqQ",
        "JMzcOPDDphqR",
        "x-EpHcCOp1ci",
        "X_VqEhTip1ck",
        "8zGJKyg5p1ck",
        "PVzmfK_Ep1ck",
        "n3dbpmDWp1ck",
        "ylSl6qgtp1ck",
        "ZWILFDl5p1ck",
        "M7G43BXep1ck",
        "Ag9LCva-p1cl",
        "E6MkPsBcp1cl",
        "2cELzS2fp1cl",
        "3MPXvC8up1cl",
        "NC_X3p0fY2L0",
        "UV0SzAkaZNRQ",
        "YPEH6qLeZNRQ",
        "q29F0dvdveiT",
        "EXh0U9oCveiU",
        "22aHeOlLveiV",
        "g-ATYxFrGrvw",
        "Yfr_Vlr8HBkt",
        "8yEUt7NnHlrM",
        "tEA2Xm5dHt1r",
        "I79__PHVH19G",
        "Ou-I18pAyIpj",
        "fF3858GYyt-u",
        "4_0_7-oCpUZd",
        "hwyV_J3ipUZe",
        "3yB-zSqbpUZe",
        "dEUvejAfpUZe",
        "Fd15vwWVpUZf",
        "bn_IUdTipZyH",
        "49K5P_iCpZyH",
        "Nff-vKELpZyI",
        "kLW572S8pZyI",
        "dWbDXHzopZyI",
        "yLjJCtPM0KBk",
        "xiyOF9F70UgQ",
        "7wuGOrhz0itI",
        "id1riN9m0vUs",
        "578E2V7j08f6",
        "89xtkJwZ18nB",
        "67NQN5KX2AMe",
        "Iwf50b-R2tYG",
        "GMQiZwjn3iu7",
        "WVIkgGqN3qsr",
        "XkPnILGE3zoT",
        "Hlsf0x5436Go",
        "mT9DMSJo4nBL",
        "c49ITxTc407N",
        "OeJFEK0N496M",
        "9ExmJH0g5HBk",
        "cJNqERVU536h",
        "k5UmGsbsOxih",
        "T0VqWOYE6DLQ",
        "qBMux9mC6MCf",
        "-oLEiFgy-5Pf",
        "C74aWNz2AliB",
        "2DejudWSA-a0",
        "pEMng2IbBLp7",
        "rAdphbQ9Bhjc",
        "TNVZ9zx19K6k",
        "nqoHp30x9hH9",
        "rMDnDkt2B6du",
        "yiiVWRdJDDil",
        "1UUpS68QDMuG",
        "kexQrXU-DjzY",
        "T5CmagL3EC8N",
        "BhH2vgX9EjGr",
        "qjKvONjwE8ra",
        "P1XJ9OREExlT",
        "VFOzZv6IFROw",
        "TIqpNgepFxVj",
        "VfCC591jGiD4",
        "OB4l2ZhMeS1U",
        "ArJBuiUVfxKd",
        "4qY1EAkEfxKe",
        "PiV4Ypx8fxKe",
        "TfvqoZmBfxKf",
        "dJ2tPlVmpsJ0",
        "JWYfwnehpsJ1",
        "-jK_YjpMpsJ2",
        "HAih1iBOpsJ2",
        "zVGeBEFhpsJ2",
        "bmKjuQ-FpsJ3",
        "Fze-IPXLpx6K",
        "7AN1z2sKpx6M",
        "9PIHJqyupx6M",
        "_-qAgymDpx6N",
        "Z-hykwinpx6N",
        "h_CCil-SKHpo",
        "cBFFvTBNJzUa",
        "HvGl1hHyA_VK",
        "EyNgTHvd2WFk",
        "KH5McJBi2d8v",
        "iW_Lq9qf2h6X",
        "-Kee-DAl2viO",
        "gCX9965dhzqZ",
        "gIfDvo9L0UH2"
      ],
      "include_colab_link": true
    },
    "kernelspec": {
      "name": "python3",
      "display_name": "Python 3"
    },
    "language_info": {
      "name": "python"
    }
  },
  "cells": [
    {
      "cell_type": "markdown",
      "metadata": {
        "id": "view-in-github",
        "colab_type": "text"
      },
      "source": [
        "<a href=\"https://colab.research.google.com/github/kirtiver22/cadrio_vascular_risk/blob/main/final_cardio_vascular_risk.ipynb\" target=\"_parent\"><img src=\"https://colab.research.google.com/assets/colab-badge.svg\" alt=\"Open In Colab\"/></a>"
      ]
    },
    {
      "cell_type": "markdown",
      "source": [
        "# **Project Name**    - **Cardiovascular risk**\n",
        "\n"
      ],
      "metadata": {
        "id": "vncDsAP0Gaoa"
      }
    },
    {
      "cell_type": "markdown",
      "source": [
        "##### **Project Type**    - EDA/Regression ,**Classification**\n",
        "##### **Contribution**    - Team\n",
        "##### **Team Member 1 -** SURAJ THAKUR\n",
        "##### **Team Member 2 -** Manjeet Sulekh\n",
        "##### **Team Member 3 -** Kirti Verma"
      ],
      "metadata": {
        "id": "beRrZCGUAJYm"
      }
    },
    {
      "cell_type": "markdown",
      "source": [
        "# **Project Summary -**"
      ],
      "metadata": {
        "id": "FJNUwmbgGyua"
      }
    },
    {
      "cell_type": "markdown",
      "source": [
        "The dataset is from an ongoing cardiovascular study on residents of the town of Framingham, Massachusetts. The classification goal is to predict whether the patient has a 10-year risk of future coronary heart disease (CHD). The dataset provides the patients information. It includes over 4,000 records and 15 attributes. Each attribute is a potential risk factor. There are both Demographic, behavioral, and medical risk factors.\n",
        "\n",
        "Cardiovascular disease (CVD) is a leading cause of death worldwide, and early detection of individuals at high risk of developing CVD is essential for effective prevention and treatment. Traditional methods of cardiovascular risk prediction rely on risk factors such as age, gender, and blood pressure, but these methods have limitations in accurately predicting individual risk.\n",
        "\n",
        "Machine learning algorithms have shown promise in improving the accuracy of cardiovascular risk prediction by incorporating a wider range of variables, including lifestyle factors and biomarkers. However, there is a need for a robust and reliable machine learning model that can accurately predict an individual's risk of developing CVD.\n",
        "\n",
        "Therefore, the problem statement is to develop a machine learning model that can accurately predict an individual's risk of developing CVD by incorporating a wide range of variables, including demographic, clinical, and lifestyle factors. The model should be interpretable, reliable, and able to provide personalized risk predictions that can aid in the development of prevention strategies for high-risk individuals.\n",
        "\n",
        "The project aims to develop a machine learning model for the classification of cardiovascular risk in individuals. The model will be trained on a dataset of demographic, clinical, and lifestyle variables of patients, including age, gender, blood pressure, cholesterol levels, smoking status, and family history of cardiovascular disease.\n",
        "\n",
        "The dataset will be preprocessed to handle missing values, normalize the data, and perform feature engineering to extract relevant features for the model. Several machine learning algorithms will be evaluated, such as logistic regression, decision trees, random forests, and support vector machines, to determine the best-performing algorithm for the task.\n",
        "\n",
        "The performance of the model will be evaluated using metrics such as accuracy, precision, recall, and F1-score. The model's interpretability will be analyzed by identifying the most important features contributing to the prediction of cardiovascular risk.\n",
        "\n",
        "In this project we will perform EDA and 7 ML model like\n",
        "\n",
        "K-nearest Neighbors\n",
        "\n",
        "Logistic Regression\n",
        "\n",
        "Naïve Bayes\n",
        "\n",
        "Decision Tree\n",
        "\n",
        "Support Vector Machine\n",
        "\n",
        "Random Forests\n",
        "\n",
        "XG Boost"
      ],
      "metadata": {
        "id": "F6v_1wHtG2nS"
      }
    },
    {
      "cell_type": "markdown",
      "source": [
        "# **GitHub Link -**"
      ],
      "metadata": {
        "id": "w6K7xa23Elo4"
      }
    },
    {
      "cell_type": "markdown",
      "source": [
        "https://github.com/kirtiver22"
      ],
      "metadata": {
        "id": "h1o69JH3Eqqn"
      }
    },
    {
      "cell_type": "markdown",
      "source": [
        "# **Problem Statement**\n"
      ],
      "metadata": {
        "id": "yQaldy8SH6Dl"
      }
    },
    {
      "cell_type": "markdown",
      "source": [
        "Cardiovascular diseases (CVDs) are the major cause of mortality worldwide. According to WHO, 17.9 million people died from CVDs in 2019, accounting for 32% of all global fatalities. Though CVDs cannot be treated, predicting the risk of the disease and taking the necessary precautions and medications can help to avoid severe symptoms and, in some cases, even death. As a result, it is critical that we accurately predict the risk of heart disease in order to avert as many fatalities as possible.\n",
        "\n",
        "Therefore, the problem statement is to develop a machine learning model that can accurately predict an individual's risk of developing CVD by incorporating a wide range of variables, including demographic, clinical, and lifestyle factors. The model should be interpretable, reliable, and able to provide personalized risk predictions that can aid in the development of prevention strategies for high-risk individuals."
      ],
      "metadata": {
        "id": "DpeJGUA3kjGy"
      }
    },
    {
      "cell_type": "markdown",
      "source": [
        "# ***Let's Begin !***"
      ],
      "metadata": {
        "id": "O_i_v8NEhb9l"
      }
    },
    {
      "cell_type": "markdown",
      "source": [
        "## ***1. Know Your Data***"
      ],
      "metadata": {
        "id": "HhfV-JJviCcP"
      }
    },
    {
      "cell_type": "markdown",
      "source": [
        "### Import Libraries"
      ],
      "metadata": {
        "id": "Y3lxredqlCYt"
      }
    },
    {
      "cell_type": "code",
      "source": [
        "# Import\n",
        "# Data manipulation\n",
        "import pandas as pd\n",
        "import numpy as np\n",
        "\n",
        "# Data visualization\n",
        "import matplotlib.pyplot as plt\n",
        "import seaborn as sns\n",
        "\n",
        "# Preprocessing and feature selection\n",
        "from sklearn.preprocessing import StandardScaler, OneHotEncoder\n",
        "from imblearn.over_sampling import SMOTE\n",
        "from sklearn.model_selection import train_test_split\n",
        "from sklearn.feature_selection import SelectKBest, f_classif\n",
        "\n",
        "# Machine learning models\n",
        "from sklearn.linear_model import LogisticRegression\n",
        "from sklearn.tree import DecisionTreeClassifier\n",
        "from sklearn.impute import KNNImputer\n",
        "from sklearn.ensemble import RandomForestClassifier\n",
        "from sklearn.svm import SVC\n",
        "from xgboost import XGBClassifier\n",
        "\n",
        "# Model evaluation\n",
        "from sklearn.metrics import accuracy_score, confusion_matrix, classification_report\n",
        "from sklearn.model_selection import cross_val_score, GridSearchCV\n"
      ],
      "metadata": {
        "id": "M8Vqi-pPk-HR"
      },
      "execution_count": null,
      "outputs": []
    },
    {
      "cell_type": "markdown",
      "source": [
        "### Dataset Loading"
      ],
      "metadata": {
        "id": "3RnN4peoiCZX"
      }
    },
    {
      "cell_type": "code",
      "source": [
        "from google.colab import drive\n",
        "drive.mount('/content/drive')"
      ],
      "metadata": {
        "id": "YTS_2BnujsQS"
      },
      "execution_count": null,
      "outputs": []
    },
    {
      "cell_type": "code",
      "source": [
        "# Load Dataset\n",
        "CVD_df = pd.read_csv('/content/drive/MyDrive/Colab Notebooks/cardiovascular_risk.csv')\n"
      ],
      "metadata": {
        "id": "4CkvbW_SlZ_R"
      },
      "execution_count": null,
      "outputs": []
    },
    {
      "cell_type": "markdown",
      "source": [
        "### Dataset First View"
      ],
      "metadata": {
        "id": "x71ZqKXriCWQ"
      }
    },
    {
      "cell_type": "code",
      "source": [
        "# Dataset First Look\n",
        "CVD_df.head()\n",
        "\n"
      ],
      "metadata": {
        "id": "LWNFOSvLl09H"
      },
      "execution_count": null,
      "outputs": []
    },
    {
      "cell_type": "code",
      "source": [
        "CVD_df.tail()\n"
      ],
      "metadata": {
        "id": "sMYizOcXle7B"
      },
      "execution_count": null,
      "outputs": []
    },
    {
      "cell_type": "markdown",
      "source": [
        "### Dataset Rows & Columns count"
      ],
      "metadata": {
        "id": "7hBIi_osiCS2"
      }
    },
    {
      "cell_type": "code",
      "source": [
        "# Dataset Rows & Columns count\n",
        "num_rows, num_columns = CVD_df.shape\n",
        "\n",
        "print(f\"Number of rows: {num_rows}\")\n",
        "print(f\"Number of columns: {num_columns}\")\n"
      ],
      "metadata": {
        "id": "Kllu7SJgmLij"
      },
      "execution_count": null,
      "outputs": []
    },
    {
      "cell_type": "code",
      "source": [
        "#columns name\n",
        "columns = CVD_df.columns\n",
        "print(columns)"
      ],
      "metadata": {
        "id": "5hxMdYwbmrBI"
      },
      "execution_count": null,
      "outputs": []
    },
    {
      "cell_type": "markdown",
      "source": [
        "### Dataset Information"
      ],
      "metadata": {
        "id": "JlHwYmJAmNHm"
      }
    },
    {
      "cell_type": "code",
      "source": [
        "# Dataset Info\n",
        "CVD_df.info()"
      ],
      "metadata": {
        "id": "e9hRXRi6meOf"
      },
      "execution_count": null,
      "outputs": []
    },
    {
      "cell_type": "code",
      "source": [
        "\n",
        "CVD_df.describe().transpose()"
      ],
      "metadata": {
        "id": "_-6PlQV1nrZP"
      },
      "execution_count": null,
      "outputs": []
    },
    {
      "cell_type": "code",
      "source": [
        "df_pivot = CVD_df.pivot_table(index=['id', 'age', 'education', 'sex', 'is_smoking', 'cigsPerDay', 'BPMeds',\n",
        "                                      'prevalentStroke', 'prevalentHyp', 'diabetes', 'totChol', 'sysBP',\n",
        "                                      'diaBP', 'BMI', 'heartRate', 'glucose', 'TenYearCHD'],\n",
        "                               aggfunc='size')\n",
        "print(df_pivot)\n"
      ],
      "metadata": {
        "id": "4UhQQUhTq9tM"
      },
      "execution_count": null,
      "outputs": []
    },
    {
      "cell_type": "markdown",
      "source": [
        "#### Duplicate Values"
      ],
      "metadata": {
        "id": "35m5QtbWiB9F"
      }
    },
    {
      "cell_type": "code",
      "source": [
        "# Dataset Duplicate Value Count\n",
        "num_duplicates = CVD_df.duplicated().sum()\n",
        "\n",
        "print(f\"Number of duplicate rows: {num_duplicates}\")\n",
        "\n"
      ],
      "metadata": {
        "id": "1sLdpKYkmox0"
      },
      "execution_count": null,
      "outputs": []
    },
    {
      "cell_type": "markdown",
      "source": [
        "#### Missing Values/Null Values"
      ],
      "metadata": {
        "id": "PoPl-ycgm1ru"
      }
    },
    {
      "cell_type": "code",
      "source": [
        "# Missing Values/Null Values Count\n",
        "missing_values_count = CVD_df.isnull().sum()\n",
        "\n",
        "print(f\"Missing values count:\\n{missing_values_count}\\n\")\n",
        "\n"
      ],
      "metadata": {
        "id": "GgHWkxvamxVg"
      },
      "execution_count": null,
      "outputs": []
    },
    {
      "cell_type": "code",
      "source": [
        "missing_values_count.sum()"
      ],
      "metadata": {
        "id": "h2170XyVtoND"
      },
      "execution_count": null,
      "outputs": []
    },
    {
      "cell_type": "code",
      "source": [
        "# Visualizing the missing values\n",
        "import missingno as msno\n",
        "msno.bar(CVD_df, color='skyblue', figsize=(10, 6))\n",
        "plt.title('Percentage of Missing Values by Column')\n",
        "plt.show()\n"
      ],
      "metadata": {
        "id": "3q5wnI3om9sJ"
      },
      "execution_count": null,
      "outputs": []
    },
    {
      "cell_type": "markdown",
      "source": [
        "### What did you know about your dataset?"
      ],
      "metadata": {
        "id": "H0kj-8xxnORC"
      }
    },
    {
      "cell_type": "markdown",
      "source": [
        "# **DEMOGRAPHIC**\n",
        "Sex: male or female ('M' or 'F')\n",
        "\n",
        "Age: Age of the patient (continuous- Although the recorded ages have been truncated to whole numbers, the concept of age is continuous)\n",
        "\n",
        "Education: the level of education of the patient (categorical values - 1,2,3,4)\n",
        "# **Behavioral:**\n",
        "is_smoking: whether or not the patient is a current smoking ('yes' or 'No')\n",
        "\n",
        "Cigs Per Day: the number of cigarettes that the person smoked on average in one day.(can be considered continuous as one can have any number of cigarettes, even half a cigarette.)\n",
        "\n",
        "# **Medical(history):**\n",
        "BP meds: whether or not the patient was on blood pressure medication(nominal)\n",
        "\n",
        "Prevalent stroke: whether or not the patient had previously had a stroke(nominal)\n",
        "\n",
        "Prevalent Hyp: whether or not the patient was hypertensive(nominal)\n",
        "\n",
        "Diabetes: Whether or not the patient had diabetes(nominal)\n",
        "\n",
        "# **Medical(current):**\n",
        "Tot Chol: total cholesterol level (continuous)\n",
        "\n",
        "Sys BP: Systgolic blood pressure (continuous )\n",
        "\n",
        "Dia BP: diastolic blood pressure(continuous)\n",
        "\n",
        "BMI: Body Mass Index (continuous)\n",
        "\n",
        "Heart rate: Heart rate (continuous-in medical research, variables such as heart rate though in fact discrete, yet are considered continuous because of large number of possible values.)\n",
        "\n",
        "Glucose: glucose level (continuous)\n",
        "\n",
        "# **Predict variable (desired target):**\n",
        "10 year risk of coronary heart disease CHD(binary:'1', means 'yes', '0' means 'NO')"
      ],
      "metadata": {
        "id": "gfoNAAC-nUe_"
      }
    },
    {
      "cell_type": "markdown",
      "source": [
        "## ***2. Understanding Your Variables***"
      ],
      "metadata": {
        "id": "nA9Y7ga8ng1Z"
      }
    },
    {
      "cell_type": "code",
      "source": [
        "# Dataset Columns\n",
        "CVD_df.columns\n"
      ],
      "metadata": {
        "id": "j7xfkqrt5Ag5"
      },
      "execution_count": null,
      "outputs": []
    },
    {
      "cell_type": "code",
      "source": [
        "# Dataset Describe\n",
        "CVD_df.describe(include='all')"
      ],
      "metadata": {
        "id": "DnOaZdaE5Q5t"
      },
      "execution_count": null,
      "outputs": []
    },
    {
      "cell_type": "markdown",
      "source": [
        "### Variables Description"
      ],
      "metadata": {
        "id": "PBTbrJXOngz2"
      }
    },
    {
      "cell_type": "markdown",
      "source": [
        "Answer Here"
      ],
      "metadata": {
        "id": "aJV4KIxSnxay"
      }
    },
    {
      "cell_type": "markdown",
      "source": [
        "### Check Unique Values for each variable."
      ],
      "metadata": {
        "id": "u3PMJOP6ngxN"
      }
    },
    {
      "cell_type": "code",
      "source": [
        "# Check Unique Values for each variable.\n",
        "# Check unique values for each variable\n",
        "for column in CVD_df.columns:\n",
        "    unique_values = CVD_df[column].nunique()\n",
        "    print(f\"Number of Unique values for {column}: {unique_values}\")\n"
      ],
      "metadata": {
        "id": "zms12Yq5n-jE"
      },
      "execution_count": null,
      "outputs": []
    },
    {
      "cell_type": "markdown",
      "source": [
        "## 3. ***Data Wrangling***"
      ],
      "metadata": {
        "id": "dauF4eBmngu3"
      }
    },
    {
      "cell_type": "markdown",
      "source": [
        "### Data Wrangling Code"
      ],
      "metadata": {
        "id": "bKJF3rekwFvQ"
      }
    },
    {
      "cell_type": "code",
      "source": [
        "# Write your code to make your dataset analysis ready.\n",
        "# column rename\n",
        "CVD_df.rename(columns={'cigsPerDay':'cigs_per_day','BPMeds':'bp_meds',\n",
        "                   'prevalentStroke':'prevalent_stroke','prevalentHyp':'prevalent_hyp',\n",
        "                   'totChol':'total_cholesterol','sysBP':'systolic_bp','diaBP':'diastolic_bp',\n",
        "                   'BMI':'bmi','heartRate':'heart_rate','TenYearCHD':'ten_year_chd'},\n",
        "          inplace = True)"
      ],
      "metadata": {
        "id": "wk-9a2fpoLcV"
      },
      "execution_count": null,
      "outputs": []
    },
    {
      "cell_type": "code",
      "source": [
        "CVD_df.columns"
      ],
      "metadata": {
        "id": "cu9lqsWy2qHl"
      },
      "execution_count": null,
      "outputs": []
    },
    {
      "cell_type": "code",
      "source": [
        "# Defining 3 lists containing the column names of\n",
        "# a. dependent variables\n",
        "# b. continuous independent variables\n",
        "# c. categorical independent variables\n",
        "# This is defined based on the number of unique values for each attribute\n",
        "\n",
        "dependent_var = ['ten_year_chd']\n",
        "continuous_var = ['age','cigs_per_day','total_cholesterol','systolic_bp', 'diastolic_bp', 'bmi', 'heart_rate', 'glucose']\n",
        "categorical_var = ['education', 'sex', 'is_smoking','bp_meds','prevalent_stroke', 'prevalent_hyp', 'diabetes']"
      ],
      "metadata": {
        "id": "xFsxdJ5J5Gbj"
      },
      "execution_count": null,
      "outputs": []
    },
    {
      "cell_type": "code",
      "source": [
        "# Encoding the binary columns\n",
        "\n",
        "CVD_df['sex'] = np.where(CVD_df['sex'] == 'M',1,0)\n",
        "CVD_df['is_smoking'] = np.where(CVD_df['is_smoking'] == 'YES',1,0)\n"
      ],
      "metadata": {
        "id": "ZJPLG_Ir78Yk"
      },
      "execution_count": null,
      "outputs": []
    },
    {
      "cell_type": "code",
      "source": [
        "# All missing values in the cigs_per_day column\n",
        "CVD_df[CVD_df['cigs_per_day'].isna()]"
      ],
      "metadata": {
        "id": "afR1KmjH-ocD"
      },
      "execution_count": null,
      "outputs": []
    },
    {
      "cell_type": "markdown",
      "source": [
        "\n",
        "\n",
        "* **From the above table, we find that for every instance of missing values in cigs per day, the patients reported that they smoke.**\n",
        "* **Let's check the mean and median number of cigarettes smoked by patients, who reported that they smoke.**\n"
      ],
      "metadata": {
        "id": "U5vVtqEvqnKk"
      }
    },
    {
      "cell_type": "code",
      "source": [
        "# mean and median number of cigarettes per day for a smoker (excluding non-smokers)\n",
        "CVD_df[CVD_df['is_smoking']==1]['cigs_per_day'].mean(),CVD_df[CVD_df['is_smoking']==1]['cigs_per_day'].median()"
      ],
      "metadata": {
        "id": "_tBz3JRPx29H"
      },
      "execution_count": null,
      "outputs": []
    },
    {
      "cell_type": "markdown",
      "source": [
        "* Mean number of cigarettes for a smoker = 18.34\n",
        "* Median number of cigarettes for a smoker = 20"
      ],
      "metadata": {
        "id": "vbQCFmDbyWA5"
      }
    },
    {
      "cell_type": "markdown",
      "source": [
        "\n",
        "From the above table, we find that for every instance of missing values in cigs per day, the patients reported that they smoke.\n",
        "\n",
        "Let's check the mean and median number of cigarettes smoked by patients, who reported that they smoke."
      ],
      "metadata": {
        "id": "vUHtgpqm_X2s"
      }
    },
    {
      "cell_type": "markdown",
      "source": [
        "### What all manipulations have you done and insights you found?"
      ],
      "metadata": {
        "id": "MSa1f5Uengrz"
      }
    },
    {
      "cell_type": "markdown",
      "source": [
        "Answer Here.\n",
        "\n",
        "On a first look at the dataset, it is found that\n",
        "\n",
        "* There are 3390 rows and 17 columns, out of which one is TenYearCHD which is the the dependent variable to be predicted\n",
        "* Two of these features are not in numerical (int/float) datatype\n",
        "There are no duplicated data in the dataset, and all values in id column are unique\n",
        "* There are 510 missing values in the dataset, with 304 of them in glucose column\n",
        "* The dataset is from an ongoing cardiovascular study on residents of the town of Framingham, Massachusetts. The classification goal is to predict whether the patient has a 10-year risk of future coronary heart disease (CHD).\n",
        "\n",
        "* The dataset provides the patients’ information. Each attribute is a potential risk factor. There are demographic, behavioral, and medical risk factors.\n",
        "* The dataset contains 3390 rows and 16 columns. There are no duplicate records, and contains 510 missing values.\n"
      ],
      "metadata": {
        "id": "LbyXE7I1olp8"
      }
    },
    {
      "cell_type": "markdown",
      "source": [
        "## ***Replacing the missing values in the categorical columns with the most frequent entry:***"
      ],
      "metadata": {
        "id": "Ayj52sydyzp8"
      }
    },
    {
      "cell_type": "code",
      "source": [
        "\n",
        "# Replacing the missing values in the categorical columns with its mode\n",
        "CVD_df['education'] = CVD_df['education'].fillna(CVD_df['education'].mode()[0])\n",
        "CVD_df['bp_meds'] = CVD_df['bp_meds'].fillna(CVD_df['bp_meds'].mode()[0])"
      ],
      "metadata": {
        "id": "i_6m7yc2y1nA"
      },
      "execution_count": null,
      "outputs": []
    },
    {
      "cell_type": "code",
      "source": [
        "# education distribution after mode imputation\n",
        "CVD_df.education.value_counts()\n"
      ],
      "metadata": {
        "id": "XTA_GYIjzcZk"
      },
      "execution_count": null,
      "outputs": []
    },
    {
      "cell_type": "code",
      "source": [
        "# bp_meds distribution after mode imputation\n",
        "CVD_df.bp_meds.value_counts()\n"
      ],
      "metadata": {
        "id": "_siDx6KtzyqR"
      },
      "execution_count": null,
      "outputs": []
    },
    {
      "cell_type": "markdown",
      "source": [
        "## ***cigs_per_day:***"
      ],
      "metadata": {
        "id": "533QKnXD0Uum"
      }
    },
    {
      "cell_type": "code",
      "source": [
        "#CVD_df.cigs_per_day.mean().round(0),CVD_df.cigs_per_day.median()"
      ],
      "metadata": {
        "id": "tfT4WQhk0vXz"
      },
      "execution_count": null,
      "outputs": []
    },
    {
      "cell_type": "code",
      "source": [
        "# Filter the DataFrame for smokers and calculate mean and median\n",
        "mean_cigs_per_day = CVD_df[CVD_df['is_smoking'] == 1]['cigs_per_day'].mean()\n",
        "median_cigs_per_day = CVD_df[CVD_df['is_smoking'] == 1]['cigs_per_day'].median()\n",
        "\n",
        "# Print the mean and median\n",
        "print(f\"Mean cigarettes per day for smokers: {mean_cigs_per_day}\")\n",
        "print(f\"Median cigarettes per day for smokers: {median_cigs_per_day}\")\n"
      ],
      "metadata": {
        "id": "ECt7JA7u0WSn"
      },
      "execution_count": null,
      "outputs": []
    },
    {
      "cell_type": "code",
      "source": [
        "# distribution of number of cigarettes per day for smokers (excluding non-smokers)\n",
        "#import matplotlib.pyplot as plt\n",
        "#import seaborn as sns\n",
        "\n",
        "# Filter the DataFrame for smokers\n",
        "smokers_df = CVD_df[CVD_df['is_smoking'] == 1]\n",
        "\n",
        "# Create a histogram of 'cigs_per_day' for smokers\n",
        "plt.figure(figsize=(10, 6))\n",
        "sns.histplot(smokers_df['cigs_per_day'], bins=20, kde=True, color='skyblue')\n",
        "plt.title('Distribution of Cigarettes Per Day for Smokers')\n",
        "plt.xlabel('Number of Cigarettes Per Day')\n",
        "plt.ylabel('Frequency')\n",
        "plt.show()\n"
      ],
      "metadata": {
        "id": "X6Aaeg7jBcG7"
      },
      "execution_count": null,
      "outputs": []
    },
    {
      "cell_type": "code",
      "source": [
        "# box plot for the number of cigarettes per day for smokers (excluding non-smokers)\n",
        "\n",
        "plt.figure(figsize=(10, 6))\n",
        "sns.boxplot(x='cigs_per_day', data=smokers_df, color='skyblue')\n",
        "plt.title('Box Plot of Cigarettes Per Day for Smokers')\n",
        "plt.xlabel('Number of Cigarettes Per Day')\n",
        "plt.show()"
      ],
      "metadata": {
        "id": "d7gmykkwEM-w"
      },
      "execution_count": null,
      "outputs": []
    },
    {
      "cell_type": "markdown",
      "source": [
        "Since the number of cigarettes smoked by the patients who smoke contains outliers, the missing values in ths cigs_per_day column can be imputed with its median value"
      ],
      "metadata": {
        "id": "503iW8O1E8hx"
      }
    },
    {
      "cell_type": "code",
      "source": [
        "# Imputing the missing values in the cigs_per_day\n",
        "\n",
        "CVD_df['cigs_per_day'] = CVD_df['cigs_per_day'].fillna(CVD_df[CVD_df['is_smoking']==1]['cigs_per_day'].median())"
      ],
      "metadata": {
        "id": "ilmW4Wy7GEqd"
      },
      "execution_count": null,
      "outputs": []
    },
    {
      "cell_type": "code",
      "source": [
        "# Checking for any wrong entries where the patient is not a smoker\n",
        "# and cigarettes per day above 0\n",
        "CVD_df[(CVD_df['is_smoking']==0) & (CVD_df['cigs_per_day']>0)]"
      ],
      "metadata": {
        "id": "Nu8eUx0J8Pt-"
      },
      "execution_count": null,
      "outputs": []
    },
    {
      "cell_type": "code",
      "source": [
        "# Checking for any wrong entries where the patient is a smoker\n",
        "# and cigarettes per day is 0\n",
        "CVD_df[(CVD_df['is_smoking']==1) & (CVD_df['cigs_per_day']==0)]"
      ],
      "metadata": {
        "id": "OvBpFg9W8mSO"
      },
      "execution_count": null,
      "outputs": []
    },
    {
      "cell_type": "markdown",
      "source": [
        "## ***total_cholestrol, bmi, heart_rate:***"
      ],
      "metadata": {
        "id": "Epw8NcFP8t72"
      }
    },
    {
      "cell_type": "code",
      "source": [
        "# Checking the distribution of the total_cholesterol, bmi, and heart_rate\n",
        "\n",
        "# List of columns\n",
        "columns = ['total_cholesterol', 'bmi', 'heart_rate']\n",
        "\n",
        "# Create subplots for each variable\n",
        "fig, axes = plt.subplots(len(columns), 1, figsize=(10, 15))\n",
        "\n",
        "for i, column in enumerate(columns):\n",
        "    # Plot histogram with KDE for the current variable\n",
        "    sns.histplot(CVD_df[column], kde=True, ax=axes[i], color='skyblue', line_kws={'linewidth': 2})\n",
        "    axes[i].axvline(CVD_df[column].mean(), color='red', linestyle='dashed', linewidth=1, label='Mean')\n",
        "    axes[i].axvline(CVD_df[column].median(), color='green', linestyle='dashed', linewidth=1, label='Median')\n",
        "    axes[i].set_title(f'Distribution of {column.capitalize()}')\n",
        "    axes[i].legend()\n",
        "\n",
        "# Adjust layout\n",
        "plt.tight_layout()\n",
        "plt.show()\n",
        "\n"
      ],
      "metadata": {
        "id": "FvNsGkQz80vL"
      },
      "execution_count": null,
      "outputs": []
    },
    {
      "cell_type": "markdown",
      "source": [
        "The total_cholestrol, bmi, and heart_rate columns are positively skewed\n",
        "\n",
        "The most common heart rate is between 60 and 80 beats per minute.\n",
        "There is a long tail to the right of the distribution, which suggests that there are a small number of people with very high heart rates.\n",
        "The distribution is slightly skewed to the left, which suggests that the heart rate is more likely to be higher in younger people than older people."
      ],
      "metadata": {
        "id": "ky7SUlQvCmEq"
      }
    },
    {
      "cell_type": "code",
      "source": [
        "# Checking outliers in total_cholesterol, bmi, heart_rate columns\n",
        "for i in ['total_cholesterol','bmi','heart_rate']:\n",
        "  plt.figure(figsize=(10,5))\n",
        "  sns.boxplot(CVD_df[i])\n",
        "  plt.title(i+' boxplot')\n",
        "  plt.show()"
      ],
      "metadata": {
        "id": "7SmxIoSzE-Sf"
      },
      "execution_count": null,
      "outputs": []
    },
    {
      "cell_type": "markdown",
      "source": [
        "The total_cholestrol, bmi, and heart_rate columns contain outliers.\n",
        "\n",
        "1.The median heart rate is 80 beats per minute.\n",
        "\n",
        "2.The interquartile range (IQR) is 20 beats per minute, which means that 50% of the people in the population have heart rates between 60 and 100 beats per minute.\n",
        "\n",
        "3.There are two outliers, one at 140 beats per minute and one at 120 beats per minute. These outliers may be due to underlying medical conditions or they may be athletes with very high heart rates.\n",
        "\n",
        "4.The distribution is slightly skewed to the right, which means that there are more people with higher heart rates than lower heart rates. This is likely due to the fact that the population includes a mix of people of different ages and fitness levels."
      ],
      "metadata": {
        "id": "7uREHa_FFQtr"
      }
    },
    {
      "cell_type": "code",
      "source": [
        "# Mean and median for total_cholesterol\n",
        "# Calculate mean and median for total_cholesterol\n",
        "mean_total_cholesterol = CVD_df['total_cholesterol'].mean()\n",
        "median_total_cholesterol = CVD_df['total_cholesterol'].median()\n",
        "\n",
        "# Print the mean and median\n",
        "print(f\"Mean total cholesterol: {mean_total_cholesterol}\")\n",
        "print(f\"Median total cholesterol: {median_total_cholesterol}\")\n"
      ],
      "metadata": {
        "id": "YSLIxZpXGZeY"
      },
      "execution_count": null,
      "outputs": []
    },
    {
      "cell_type": "code",
      "source": [
        "# Calculate mean and median for bmi\n",
        "mean_bmi = CVD_df['bmi'].mean()\n",
        "median_bmi = CVD_df['bmi'].median()\n",
        "\n",
        "# Print the mean and median\n",
        "print(f\"Mean BMI: {mean_bmi}\")\n",
        "print(f\"Median BMI: {median_bmi}\")\n"
      ],
      "metadata": {
        "id": "dH_BbKkDGl-N"
      },
      "execution_count": null,
      "outputs": []
    },
    {
      "cell_type": "code",
      "source": [
        "# Calculate mean and median for heart_rate\n",
        "mean_heart_rate = CVD_df['heart_rate'].mean()\n",
        "median_heart_rate = CVD_df['heart_rate'].median()\n",
        "\n",
        "# Print the mean and median\n",
        "print(f\"Mean Heart Rate: {mean_heart_rate}\")\n",
        "print(f\"Median Heart Rate: {median_heart_rate}\")\n"
      ],
      "metadata": {
        "id": "9N8rxKKHGlwC"
      },
      "execution_count": null,
      "outputs": []
    },
    {
      "cell_type": "markdown",
      "source": [
        "\n",
        "Since the total_cholestrol, bmi, and heart_rate columns are positively skewed, and also contains outliers. We can impute the missing values with its median"
      ],
      "metadata": {
        "id": "xfsWBNpHIIzJ"
      }
    },
    {
      "cell_type": "code",
      "source": [
        "# Imputing missing values in the total_cholesterol, bmi, and heart_rate with their medain values\n",
        "CVD_df['total_cholesterol'] = CVD_df['total_cholesterol'].fillna(median_total_cholesterol)\n",
        "CVD_df['bmi'] = CVD_df['bmi'].fillna(median_bmi)\n",
        "CVD_df['heart_rate'] = CVD_df['heart_rate'].fillna(median_heart_rate)"
      ],
      "metadata": {
        "id": "o9GH2HjCI1el"
      },
      "execution_count": null,
      "outputs": []
    },
    {
      "cell_type": "code",
      "source": [
        "# mean and median of total_cholesterol after median imputation\n",
        "mean_total_cholesterol_imputed = CVD_df['total_cholesterol'].mean()\n",
        "median_total_cholesterol_imputed = CVD_df['total_cholesterol'].median()\n",
        "print(mean_total_cholesterol_imputed,'and',median_total_cholesterol_imputed)"
      ],
      "metadata": {
        "id": "R9cZ3YjCJt3O"
      },
      "execution_count": null,
      "outputs": []
    },
    {
      "cell_type": "code",
      "source": [
        "# mean and median of bmi after median imputation\n",
        "mean_bmi_imputed = CVD_df['bmi'].mean()\n",
        "median_bmi_imputed = CVD_df['bmi'].median()\n",
        "print(mean_bmi_imputed,'and',median_bmi_imputed)"
      ],
      "metadata": {
        "id": "1jk_gu0xJtu6"
      },
      "execution_count": null,
      "outputs": []
    },
    {
      "cell_type": "code",
      "source": [
        "# mean and median of heart_rate after median imputation\n",
        "mean_heart_rate_imputed = CVD_df['heart_rate'].mean()\n",
        "median_heart_rate_imputed = CVD_df['heart_rate'].median()\n",
        "print(mean_heart_rate_imputed,'and',median_heart_rate_imputed)"
      ],
      "metadata": {
        "id": "t4d6FS0OK7kx"
      },
      "execution_count": null,
      "outputs": []
    },
    {
      "cell_type": "markdown",
      "source": [
        "# ***Glucose***"
      ],
      "metadata": {
        "id": "LKWvRwa-LpRc"
      }
    },
    {
      "cell_type": "code",
      "source": [
        "# total missing values in glucose\n",
        "CVD_df.glucose.isna().sum()"
      ],
      "metadata": {
        "id": "WO6Zhc4yLovS"
      },
      "execution_count": null,
      "outputs": []
    },
    {
      "cell_type": "code",
      "source": [
        "\n",
        "# distribution of glucose\n",
        "plt.figure(figsize=(10,5))\n",
        "sns.histplot(CVD_df['glucose'])\n",
        "plt.axvline(CVD_df['glucose'].mean(), color='yellow', linestyle='dashed', linewidth=2)\n",
        "plt.axvline(CVD_df['glucose'].median(), color='red', linestyle='dashed', linewidth=2)\n",
        "plt.title('Glucose distribution')\n",
        "plt.show()"
      ],
      "metadata": {
        "id": "rXy7xiplMees"
      },
      "execution_count": null,
      "outputs": []
    },
    {
      "cell_type": "markdown",
      "source": [
        "The glucose column is positively skewed."
      ],
      "metadata": {
        "id": "5uRfBV2cNcAT"
      }
    },
    {
      "cell_type": "code",
      "source": [
        "# Outliers in glucose\n",
        "plt.figure(figsize=(8, 6))\n",
        "sns.boxplot(x=CVD_df['glucose'], color='skyblue')\n",
        "plt.title('Box Plot of Glucose')\n",
        "plt.xlabel('Glucose')\n",
        "plt.show()"
      ],
      "metadata": {
        "id": "OfNI62HaNgW9"
      },
      "execution_count": null,
      "outputs": []
    },
    {
      "cell_type": "markdown",
      "source": [
        "The glucose column contains outliers."
      ],
      "metadata": {
        "id": "nWaTaWINOBXn"
      }
    },
    {
      "cell_type": "code",
      "source": [
        "# Mean, median, and mode for glucose\n",
        "CVD_df.glucose.mean(),CVD_df.glucose.median(),CVD_df.glucose.mode()"
      ],
      "metadata": {
        "id": "NkPhs5EqObEv"
      },
      "execution_count": null,
      "outputs": []
    },
    {
      "cell_type": "markdown",
      "source": [
        "1. The distribution is positively skewed, with outliers.\n",
        "2.There are 304 missing values in the glucose column. If we choose to impute them with a single value of mean / median, we will be adding high bias at that point.\n",
        "3.To avoid this we can impute the missing values using KNN imputer. If the dataset in question had been a time series, we could have used the interpolation method to impute the missing values."
      ],
      "metadata": {
        "id": "EVTb4s1VPG0n"
      }
    },
    {
      "cell_type": "code",
      "source": [
        "# Using KNN imputer with K=10\n",
        "\n",
        "imputer = KNNImputer(n_neighbors=10)\n",
        "imputed = imputer.fit_transform(CVD_df)\n",
        "df = pd.DataFrame(imputed, columns=CVD_df.columns)"
      ],
      "metadata": {
        "id": "ax8Fagv6Xe4_"
      },
      "execution_count": null,
      "outputs": []
    },
    {
      "cell_type": "code",
      "source": [
        "# mean, median, and mode for glucose after knn imputation\n",
        "CVD_df.glucose.mean(),CVD_df.glucose.median(),CVD_df.glucose.mode()"
      ],
      "metadata": {
        "id": "-HNFY7-6ZX8z"
      },
      "execution_count": null,
      "outputs": []
    },
    {
      "cell_type": "code",
      "source": [
        "CVD_df.columns"
      ],
      "metadata": {
        "id": "OE9ysnw3bm--"
      },
      "execution_count": null,
      "outputs": []
    },
    {
      "cell_type": "markdown",
      "source": [
        "After KNN imputation, there is no massive change in the values of mean. And the values of median and mode remain the same."
      ],
      "metadata": {
        "id": "eKNfWqx8aKn1"
      }
    },
    {
      "cell_type": "code",
      "source": [
        "CVD_df.info()"
      ],
      "metadata": {
        "id": "UK2m4dOXcQD3"
      },
      "execution_count": null,
      "outputs": []
    },
    {
      "cell_type": "markdown",
      "source": [
        "The KNN imputer has converted all the columns to the float64 datatype. Hence, changing the column datatype accordingly as per the kind of data stored in the respective column."
      ],
      "metadata": {
        "id": "WddgbMz_eTG6"
      }
    },
    {
      "cell_type": "code",
      "source": [
        "# changing datatypes\n",
        "CVD_df = CVD_df.astype({'age': int, 'education':int,'sex':int,'is_smoking':int,'cigs_per_day':int,\n",
        "               'bp_meds':int,'prevalent_stroke':int,'prevalent_hyp':int,'diabetes':int,\n",
        "               'total_cholesterol':float,'systolic_bp':float,'diastolic_bp':float,\n",
        "               'bmi':float,'heart_rate':float,'glucose':float,'ten_year_chd':int})"
      ],
      "metadata": {
        "id": "v8m5vWKJfXAQ"
      },
      "execution_count": null,
      "outputs": []
    },
    {
      "cell_type": "code",
      "source": [
        "# checking for missing values\n",
        "CVD_df.isna().sum()"
      ],
      "metadata": {
        "id": "k6dCtVdkfb4d"
      },
      "execution_count": null,
      "outputs": []
    },
    {
      "cell_type": "markdown",
      "source": [
        "We have successfully handled all the missing values in the dataset."
      ],
      "metadata": {
        "id": "j6wcX-e6fkZT"
      }
    },
    {
      "cell_type": "markdown",
      "source": [
        "## ***4. Data Vizualization, Storytelling & Experimenting with charts : Understand the relationships between variables***"
      ],
      "metadata": {
        "id": "GF8Ens_Soomf"
      }
    },
    {
      "cell_type": "markdown",
      "source": [
        "#### Chart - 1 Which Gender is prone to coronary heart disease?"
      ],
      "metadata": {
        "id": "0wOQAZs5pc--"
      }
    },
    {
      "cell_type": "code",
      "source": [
        "# Chart - 1 visualization code\n",
        "# Calculate the number of individuals with CHD for each gender\n",
        "chd_by_gender = CVD_df.groupby('sex')['ten_year_chd'].sum()\n",
        "\n",
        "# Calculate the total number of individuals for each gender\n",
        "total_by_gender = CVD_df['sex'].value_counts()\n",
        "\n",
        "# Calculate the prevalence of CHD for each gender\n",
        "prevalence_by_gender = chd_by_gender / total_by_gender\n",
        "\n",
        "# Print the prevalence of CHD for each gender\n",
        "print(\"Prevalence of CHD by gender:\")\n",
        "print(prevalence_by_gender)\n",
        "\n",
        "# Plotting the bar plot\n",
        "plt.figure(figsize=(8, 6))\n",
        "prevalence_by_gender.plot(kind='bar', color=['skyblue', 'salmon'])\n",
        "plt.title('Prevalence of Coronary Heart Disease by Gender')\n",
        "plt.xlabel('Gender')\n",
        "plt.ylabel('Prevalence')\n",
        "plt.xticks(rotation=0)\n",
        "plt.show()\n",
        "\n"
      ],
      "metadata": {
        "id": "7v_ESjsspbW7"
      },
      "execution_count": null,
      "outputs": []
    },
    {
      "cell_type": "markdown",
      "source": [
        "##### 1. Why did you pick the specific chart?"
      ],
      "metadata": {
        "id": "K5QZ13OEpz2H"
      }
    },
    {
      "cell_type": "markdown",
      "source": [
        "Answer Here.\n",
        "\n",
        "I picked the chart because it shows the percentage of people who are \"At Risk\" for CHD by gender. This is an important insight for businesses, as it can help them to understand the health risks that their employees face.\n"
      ],
      "metadata": {
        "id": "XESiWehPqBRc"
      }
    },
    {
      "cell_type": "markdown",
      "source": [
        "##### 2. What is/are the insight(s) found from the chart?"
      ],
      "metadata": {
        "id": "lQ7QKXXCp7Bj"
      }
    },
    {
      "cell_type": "markdown",
      "source": [
        "Answer Here\n",
        "\n",
        "*   More men are at risk for CHD than women.\n",
        "*    The percentage of men who are at risk for CHD is increasing.\n",
        "* The percentage of women who are at risk for CHD is also increasing, but at a slower rate than men.\n",
        "\n"
      ],
      "metadata": {
        "id": "C_j1G7yiqdRP"
      }
    },
    {
      "cell_type": "markdown",
      "source": [
        "##### 3. Will the gained insights help creating a positive business impact?\n",
        "Are there any insights that lead to negative growth? Justify with specific reason."
      ],
      "metadata": {
        "id": "448CDAPjqfQr"
      }
    },
    {
      "cell_type": "markdown",
      "source": [
        "Answer Here\n",
        "\n",
        "Overall, the chart provides valuable insights into the percentage of people who are at risk for CHD by gender. These insights can help businesses to understand the health risks that their employees face and to take steps to improve their health."
      ],
      "metadata": {
        "id": "3cspy4FjqxJW"
      }
    },
    {
      "cell_type": "markdown",
      "source": [
        "#### Chart - 2\n",
        "How much cigarettes per day smoked by smokers?"
      ],
      "metadata": {
        "id": "KSlN3yHqYklG"
      }
    },
    {
      "cell_type": "code",
      "source": [
        "# Chart - 2 visualization code\n",
        "# distribution of number of cigarettes per day for smokers (excluding non-smokers)\n",
        "\n",
        "# Filter the DataFrame to include only smokers\n",
        "smokers_df = CVD_df[CVD_df['is_smoking'] == 1]\n",
        "\n",
        "# Calculate mean and median of cigarettes per day for smokers\n",
        "mean_cigs_per_day = smokers_df['cigs_per_day'].mean()\n",
        "median_cigs_per_day = smokers_df['cigs_per_day'].median()\n",
        "\n",
        "# Plotting the distribution of cigarettes per day for smokers\n",
        "plt.figure(figsize=(10, 6))\n",
        "sns.histplot(smokers_df['cigs_per_day'], bins=10, kde=True, color='skyblue')\n",
        "plt.axvline(mean_cigs_per_day, color='magenta', linestyle='dashed', linewidth=2, label=f'Mean: {mean_cigs_per_day:.2f}')\n",
        "plt.axvline(median_cigs_per_day, color='cyan', linestyle='dashed', linewidth=2, label=f'Median: {median_cigs_per_day:.2f}')\n",
        "plt.title('Distribution of Cigarettes Per Day for Smokers')\n",
        "plt.xlabel('Number of Cigarettes per Day')\n",
        "plt.ylabel('Frequency')\n",
        "plt.legend()\n",
        "plt.show()\n"
      ],
      "metadata": {
        "id": "R4YgtaqtYklH"
      },
      "execution_count": null,
      "outputs": []
    },
    {
      "cell_type": "markdown",
      "source": [
        "##### 1. Why did you pick the specific chart?"
      ],
      "metadata": {
        "id": "t6dVpIINYklI"
      }
    },
    {
      "cell_type": "markdown",
      "source": [
        "Answer Here.\n",
        "\n",
        "I picked the chart because it shows the distribution of cigarettes smoked per day for smokers. This is an important chart to look at because it can help us understand the smoking habits of our target audience.\n"
      ],
      "metadata": {
        "id": "5aaW0BYyYklI"
      }
    },
    {
      "cell_type": "markdown",
      "source": [
        "##### 2. What is/are the insight(s) found from the chart?"
      ],
      "metadata": {
        "id": "ijmpgYnKYklI"
      }
    },
    {
      "cell_type": "markdown",
      "source": [
        "Answer Here\n",
        "\n",
        "* The most common number of cigarettes smoked per day is 20.\n",
        "* There is a long tail to the distribution, meaning that there are a small number of smokers who smoke a very high number of cigarettes per day.\n",
        "* The distribution is slightly skewed to the right, meaning that there are slightly more smokers who smoke more cigarettes per day than smokers who smoke fewer cigarettes per day."
      ],
      "metadata": {
        "id": "PSx9atu2YklI"
      }
    },
    {
      "cell_type": "markdown",
      "source": [
        "##### 3. Will the gained insights help creating a positive business impact?\n",
        "Are there any insights that lead to negative growth? Justify with specific reason."
      ],
      "metadata": {
        "id": "-JiQyfWJYklI"
      }
    },
    {
      "cell_type": "markdown",
      "source": [
        "Answer Here\n",
        "\n",
        "These insights can help us create a positive business impact by:\n",
        "\n",
        "1.Targeting our marketing campaigns to smokers who smoke 20 cigarettes per day.\n",
        "\n",
        "2.Developing products and services that are specifically designed for smokers who smoke a high number of cigarettes per day.\n",
        "\n",
        "3.Working with healthcare providers to educate smokers about the dangers of smoking and to help them quit smoking.\n",
        "\n",
        "negative business impact\n",
        "\n",
        "1.Smokers who smoke a high number of cigarettes per day are more likely to develop chronic diseases, such as heart disease, stroke, and cancer. This means that they are more likely to miss work, be hospitalized, and die prematurely. This can lead to lost productivity, increased healthcare costs, and a decrease in the overall workforce.\n",
        "\n",
        "2.Smokers who smoke a high number of cigarettes per day are more likely to have children who smoke. This can lead to a cycle of smoking that can be difficult to break.\n",
        "\n",
        "3.Smokers who smoke a high number of cigarettes per day are more likely to be obese and have other unhealthy habits. This can lead to a decrease in their overall health and well-being."
      ],
      "metadata": {
        "id": "BcBbebzrYklV"
      }
    },
    {
      "cell_type": "markdown",
      "source": [
        "#### Chart - 3\n",
        "Distribution of BMI in a population."
      ],
      "metadata": {
        "id": "EM7whBJCYoAo"
      }
    },
    {
      "cell_type": "code",
      "source": [
        "# Chart - 3 visualization code\n",
        "\n",
        "# Plotting histograms for each continuous variable\n",
        "plt.figure(figsize=(12, 10))\n",
        "for i, var in enumerate(continuous_var, 1):\n",
        "    plt.subplot(3, 3, i)\n",
        "    sns.histplot(CVD_df[var], kde=True, color='skyblue')\n",
        "    plt.title(f'Distribution of {var}')\n",
        "    plt.xlabel(var)\n",
        "    plt.ylabel('Frequency')\n",
        "\n",
        "plt.tight_layout()\n",
        "plt.show()\n"
      ],
      "metadata": {
        "id": "t6GMdE67YoAp"
      },
      "execution_count": null,
      "outputs": []
    },
    {
      "cell_type": "markdown",
      "source": [
        "##### 1. Why did you pick the specific chart?"
      ],
      "metadata": {
        "id": "fge-S5ZAYoAp"
      }
    },
    {
      "cell_type": "markdown",
      "source": [
        "Answer Here.\n",
        "\n",
        "I picked the chart because it shows the distribution of BMI in a population. This is an important insight for businesses, as it can help them to understand the health of their employees and customers."
      ],
      "metadata": {
        "id": "5dBItgRVYoAp"
      }
    },
    {
      "cell_type": "markdown",
      "source": [
        "##### 2. What is/are the insight(s) found from the chart?"
      ],
      "metadata": {
        "id": "85gYPyotYoAp"
      }
    },
    {
      "cell_type": "markdown",
      "source": [
        "Answer Here\n",
        "\n",
        "1.The majority of people in the population have a BMI in the normal range.\n",
        "\n",
        "2.There is a small percentage of people who are underweight.\n",
        "\n",
        "3.There is a larger percentage of people who are overweight or obese."
      ],
      "metadata": {
        "id": "4jstXR6OYoAp"
      }
    },
    {
      "cell_type": "markdown",
      "source": [
        "##### 3. Will the gained insights help creating a positive business impact?\n",
        "Are there any insights that lead to negative growth? Justify with specific reason."
      ],
      "metadata": {
        "id": "RoGjAbkUYoAp"
      }
    },
    {
      "cell_type": "markdown",
      "source": [
        "Answer Here\n",
        "\n",
        "Overall, the chart provides valuable insights into the distribution of BMI in a population. These insights can help businesses to understand the health of their employees and customers and to take steps to improve their health."
      ],
      "metadata": {
        "id": "zfJ8IqMcYoAp"
      }
    },
    {
      "cell_type": "markdown",
      "source": [
        "#### Chart - 4\n",
        "Making age distribution of CVD patients."
      ],
      "metadata": {
        "id": "4Of9eVA-YrdM"
      }
    },
    {
      "cell_type": "code",
      "source": [
        "# Chart - 4 visualization code\n",
        "plt.figure(figsize=(10, 6))\n",
        "sns.histplot(CVD_df['age'], bins=20, kde=True, color='skyblue')\n",
        "plt.title('Age Distribution of CVD Patients')\n",
        "plt.xlabel('Age')\n",
        "plt.ylabel('Frequency')\n",
        "plt.show()"
      ],
      "metadata": {
        "id": "irlUoxc8YrdO"
      },
      "execution_count": null,
      "outputs": []
    },
    {
      "cell_type": "markdown",
      "source": [
        "##### 1. Why did you pick the specific chart?"
      ],
      "metadata": {
        "id": "iky9q4vBYrdO"
      }
    },
    {
      "cell_type": "markdown",
      "source": [
        "Answer Here.\n",
        "\n",
        "I picked the chart because it shows the age distribution of CVD patients. This is an important insight for businesses, as it can help them to understand the impact of CVD on their workforce."
      ],
      "metadata": {
        "id": "aJRCwT6DYrdO"
      }
    },
    {
      "cell_type": "markdown",
      "source": [
        "##### 2. What is/are the insight(s) found from the chart?"
      ],
      "metadata": {
        "id": "F6T5p64dYrdO"
      }
    },
    {
      "cell_type": "markdown",
      "source": [
        "Answer Here\n",
        "\n",
        "1.The majority of CVD patients are over the age of 50.\n",
        "\n",
        "2.The number of CVD patients is increasing in the older age groups.\n",
        "\n",
        "3.CVD is a major cause of death for adults over the age of 50."
      ],
      "metadata": {
        "id": "Xx8WAJvtYrdO"
      }
    },
    {
      "cell_type": "markdown",
      "source": [
        "##### 3. Will the gained insights help creating a positive business impact?\n",
        "Are there any insights that lead to negative growth? Justify with specific reason.\n",
        "\n"
      ],
      "metadata": {
        "id": "y-Ehk30pYrdP"
      }
    },
    {
      "cell_type": "markdown",
      "source": [
        "Answer Here\n",
        "\n",
        "1.Understand the risk of CVD to their workforce.\n",
        "\n",
        "2.Implement policies to protect their employees from CVD, such as smoking cessation programs and healthy eating initiatives.\n",
        "\n",
        "3.Provide support to employees who are sick with CVD, such as paid sick leave and short-term disability benefits"
      ],
      "metadata": {
        "id": "jLNxxz7MYrdP"
      }
    },
    {
      "cell_type": "markdown",
      "source": [
        "#### Chart - 5\n",
        "Finding cholesterol levels in CVD patients."
      ],
      "metadata": {
        "id": "bamQiAODYuh1"
      }
    },
    {
      "cell_type": "code",
      "source": [
        "# Chart - 5 visualization code\n",
        "plt.figure(figsize=(8, 6))\n",
        "sns.histplot(CVD_df['total_cholesterol'], color='green',bins=20)\n",
        "plt.title('Cholesterol Levels in CVD Patients')\n",
        "plt.xlabel('Total Cholesterol')\n",
        "plt.show()"
      ],
      "metadata": {
        "id": "TIJwrbroYuh3"
      },
      "execution_count": null,
      "outputs": []
    },
    {
      "cell_type": "markdown",
      "source": [
        "##### 1. Why did you pick the specific chart?"
      ],
      "metadata": {
        "id": "QHF8YVU7Yuh3"
      }
    },
    {
      "cell_type": "markdown",
      "source": [
        "Answer Here.\n",
        "\n",
        "I picked the chart because it shows the distribution of cholesterol levels in CVD patients. This is an important insight for healthcare professionals, as it can help them to identify patients who are at risk for further complications of CVD.\n",
        "\n",
        "---\n",
        "\n"
      ],
      "metadata": {
        "id": "dcxuIMRPYuh3"
      }
    },
    {
      "cell_type": "markdown",
      "source": [
        "##### 2. What is/are the insight(s) found from the chart?"
      ],
      "metadata": {
        "id": "GwzvFGzlYuh3"
      }
    },
    {
      "cell_type": "markdown",
      "source": [
        "Answer Here\n",
        "\n",
        "The majority of CVD patients have high cholesterol levels.\n",
        "\n",
        "\n",
        "1.The number of patients with high cholesterol levels is increasing.\n",
        "\n",
        "2.Patients with high cholesterol levels are at risk for further complications of CVD, such as heart attack, stroke, and peripheral artery disease.\n",
        "\n",
        "3.The high number of patients with high cholesterol levels underscores the importance of cholesterol screening for all adults.\n",
        "\n",
        "4.The increasing number of patients with high cholesterol levels highlights the need for more research into the causes of high cholesterol and the development of new treatments.\n",
        "\n",
        "5.The high risk of further complications for patients with high cholesterol levels emphasizes the importance of lifestyle changes and medication to lower cholesterol levels."
      ],
      "metadata": {
        "id": "uyqkiB8YYuh3"
      }
    },
    {
      "cell_type": "markdown",
      "source": [
        "##### 3. Will the gained insights help creating a positive business impact?\n",
        "Are there any insights that lead to negative growth? Justify with specific reason."
      ],
      "metadata": {
        "id": "qYpmQ266Yuh3"
      }
    },
    {
      "cell_type": "markdown",
      "source": [
        "Answer Here\n",
        "\n",
        "Overall, the chart provides valuable insights into the distribution of cholesterol levels in CVD patients. These insights can help healthcare professionals to identify patients who are at risk for further complications of CVD and to provide early intervention and treatment. This can help to improve people's health and reduce the risk of developing serious health problems."
      ],
      "metadata": {
        "id": "_WtzZ_hCYuh4"
      }
    },
    {
      "cell_type": "markdown",
      "source": [
        "#### Chart - 6\n",
        "\n",
        "Finding number of cases of CHD over a period of years\n",
        "\n"
      ],
      "metadata": {
        "id": "OH-pJp9IphqM"
      }
    },
    {
      "cell_type": "code",
      "source": [
        "# Chart - 6 visualization code\n",
        "var = 'ten_year_chd'\n",
        "\n",
        "plt.figure(figsize = (11, 6))\n",
        "ax = CVD_df[var].value_counts().plot(kind = 'bar')\n",
        "plt.ylabel('Count of people')\n",
        "plt.xlabel(var)\n",
        "for p in ax.patches:\n",
        "    ax.annotate(str(p.get_height()), (p.get_x() + p.get_width() / 2., p.get_height()),\n",
        "                ha='center', va='center', xytext=(0, 10), textcoords='offset points')\n",
        "\n",
        "plt.show()"
      ],
      "metadata": {
        "id": "kuRf4wtuphqN"
      },
      "execution_count": null,
      "outputs": []
    },
    {
      "cell_type": "markdown",
      "source": [
        "##### 1. Why did you pick the specific chart?"
      ],
      "metadata": {
        "id": "bbFf2-_FphqN"
      }
    },
    {
      "cell_type": "markdown",
      "source": [
        "Answer Here.\n",
        "\n",
        "I picked the chart because it shows the number of cases of CHD over a period of years. This is an important insight for businesses, as it can help them to plan for future healthcare costs."
      ],
      "metadata": {
        "id": "loh7H2nzphqN"
      }
    },
    {
      "cell_type": "markdown",
      "source": [
        "##### 2. What is/are the insight(s) found from the chart?"
      ],
      "metadata": {
        "id": "_ouA3fa0phqN"
      }
    },
    {
      "cell_type": "markdown",
      "source": [
        "Answer Here\n",
        "\n",
        "1.The number of cases of CHD has been increasing over the past few years.\n",
        "\n",
        "2.The increase in the number of cases of CHD is likely due to a number of factors, including an aging population, an increase in obesity, and a sedentary lifestyle.\n",
        "\n",
        "3.The increase in the number of cases of CHD is a major concern for businesses, as it will lead to increased healthcare costs."
      ],
      "metadata": {
        "id": "VECbqPI7phqN"
      }
    },
    {
      "cell_type": "markdown",
      "source": [
        "##### 3. Will the gained insights help creating a positive business impact?\n",
        "Are there any insights that lead to negative growth? Justify with specific reason."
      ],
      "metadata": {
        "id": "Seke61FWphqN"
      }
    },
    {
      "cell_type": "markdown",
      "source": [
        "Answer Here\n",
        "\n",
        "1.Offering health insurance that covers preventive care, such as diabetes and hypertension screenings.\n",
        "\n",
        "2.Providing employees with resources to help them live a healthy lifestyle, such as on-site gyms and health education classes.\n",
        "\n",
        "3.Encouraging employees to take breaks throughout the day and to stand up and move around regularly."
      ],
      "metadata": {
        "id": "DW4_bGpfphqN"
      }
    },
    {
      "cell_type": "markdown",
      "source": [
        "#### Chart - 7\n",
        "Relationship between the Continuous variables and the Dependent variable"
      ],
      "metadata": {
        "id": "PIIx-8_IphqN"
      }
    },
    {
      "cell_type": "code",
      "source": [
        "# Chart - 7 visualization code\n",
        "\n",
        "def catplot_with_median(dataset, variable, legend, median=False, unit=None, kind_='violin'):\n",
        "    '''\n",
        "    Returns a categorical plot with median. Inputs: DataFrame dataset, continuous variable to plot,\n",
        "    the discrete variable to legend on, median (True/False), unit and type of plot\n",
        "    '''\n",
        "    # Check if legend column exists in the dataset\n",
        "    if legend not in dataset.columns:\n",
        "        raise ValueError(f\"Column '{legend}' not found in the dataset.\")\n",
        "\n",
        "    # Check if variable column exists in the dataset\n",
        "    if variable not in dataset.columns:\n",
        "        raise ValueError(f\"Column '{variable}' not found in the dataset.\")\n",
        "\n",
        "    sns.catplot(data=dataset, x=legend, y=variable, height=5, aspect=11/6, kind=kind_)\n",
        "    plt.ylabel(f'{variable} ({unit})')\n",
        "\n",
        "    if median:\n",
        "        # Use a colormap for colors\n",
        "        cmap = plt.get_cmap('tab20')\n",
        "        num_colors = len(dataset[legend].unique())\n",
        "        colors = [cmap(i) for i in range(num_colors)]\n",
        "\n",
        "        for i, value in enumerate(dataset.dropna()[legend].unique()):\n",
        "            median_value = dataset[dataset[legend] == value][variable].median()\n",
        "            plt.axhline(median_value, color=colors[i], linestyle='--',\n",
        "                        label=f\"Median ({legend} = {value}) = {median_value:.2f} {unit}\")\n",
        "\n",
        "        plt.legend(bbox_to_anchor=(1, 0.54))\n",
        "\n",
        "    plt.show()\n",
        "    plt.tight_layout()\n",
        "\n",
        "# Example usage\n",
        "#catplot_with_median(CVD_df, 'total_cholesterol', 'ten_year_chd', median=True, unit='mg/dL', kind_='box')\n"
      ],
      "metadata": {
        "id": "lqAIGUfyphqO"
      },
      "execution_count": null,
      "outputs": []
    },
    {
      "cell_type": "code",
      "source": [
        "for var in continuous_var:\n",
        "    catplot_with_median(dataset=CVD_df, variable=var, legend='ten_year_chd', unit=var, kind_='violin')"
      ],
      "metadata": {
        "id": "Zm2OOuPgmGKA"
      },
      "execution_count": null,
      "outputs": []
    },
    {
      "cell_type": "markdown",
      "source": [
        "##### 1. Why did you pick the specific chart?"
      ],
      "metadata": {
        "id": "t27r6nlMphqO"
      }
    },
    {
      "cell_type": "markdown",
      "source": [
        "Answer Here.\n",
        "\n",
        "A violin plot helps to effectively visualise the distribution of a continuous variable across the different categories of a categorical variable. It combines the features of box and kernel density plots in that the width of the violin at a particular point represents the density or frequency of the data at that point, while the height represents the range of values for the data."
      ],
      "metadata": {
        "id": "iv6ro40sphqO"
      }
    },
    {
      "cell_type": "markdown",
      "source": [
        "##### 2. What is/are the insight(s) found from the chart?"
      ],
      "metadata": {
        "id": "r2jJGEOYphqO"
      }
    },
    {
      "cell_type": "markdown",
      "source": [
        "Answer Here\n",
        "\n",
        "The following observations could be drawn from the above violin plots:\n",
        "\n",
        "1.By just looking at the plots, it can be observed that age is a major factor .contributing to risk of CVD. More number of older patients have a risk of CVD than younger patients\n",
        "\n",
        "2.More number of non-smokers are present among those who have no risk of CVD in next ten years. The violin plot for cigarettess/day is more flattened in the case of those with risk of CVD\n",
        "\n",
        "3.The plots of Blood pressures, BMI and glucose levels show only minute variations, and nothing conclusive can be established"
      ],
      "metadata": {
        "id": "Po6ZPi4hphqO"
      }
    },
    {
      "cell_type": "markdown",
      "source": [
        "##### 3. Will the gained insights help creating a positive business impact?\n",
        "Are there any insights that lead to negative growth? Justify with specific reason."
      ],
      "metadata": {
        "id": "b0JNsNcRphqO"
      }
    },
    {
      "cell_type": "markdown",
      "source": [
        "Answer Here"
      ],
      "metadata": {
        "id": "xvSq8iUTphqO"
      }
    },
    {
      "cell_type": "markdown",
      "source": [
        "#### Chart - 8\n",
        " Relationship between the Discrete variables and the Dependent variable"
      ],
      "metadata": {
        "id": "BZR9WyysphqO"
      }
    },
    {
      "cell_type": "code",
      "source": [
        "# Chart - 8 visualization code\n",
        "# Function for plotting both proportion and count plots for each variable. With formatting\n",
        "\n",
        "def display_vals(ax):\n",
        "    for p in ax.patches:\n",
        "        ax.annotate(f'{p.get_height():.2f}', (p.get_x() + p.get_width() / 2., p.get_height()),\n",
        "                     ha='center', va='center', xytext=(0, 5), textcoords='offset points')\n",
        "\n",
        "def bivariate_discrete_plot(dataset, variable, legend, size):\n",
        "    '''Plots both the count plot and \"proportion\" plot - the latter of which displays percentage\n",
        "    of people in the classes of \"legend\" variable in each class of the variable in x-axis'''\n",
        "\n",
        "    # Creating dataframes with count and proportion data\n",
        "    counts = dataset.groupby([variable, legend], as_index=False)['id'].count()\n",
        "    props = pd.merge(counts.groupby(variable)['id'].sum(), counts, on=variable)\n",
        "    props['proportion'] = props['id_y'] * 100 / props['id_x']\n",
        "\n",
        "    # Plotting the two data\n",
        "    fig, axes = plt.subplots(1, 2, figsize=size)\n",
        "\n",
        "    ax1 = sns.barplot(data=props, x=variable, y='proportion', hue=legend, ax=axes[0])\n",
        "    ax1.legend_.remove()\n",
        "    ax1.set(ylabel='Proportion of people (%)')\n",
        "    display_vals(ax1)\n",
        "\n",
        "    ax2 = sns.barplot(data=counts, x=variable, y='id', hue=legend, ax=axes[1])\n",
        "    ax2.set(ylabel='Count of People')\n",
        "    sns.move_legend(ax2, \"lower center\", bbox_to_anchor=(1.15, 0.4), title=legend, handlelength=2.5)\n",
        "    display_vals(ax2)\n",
        "\n",
        "    plt.tight_layout()\n",
        "    plt.show()\n",
        "\n",
        "# Example usage\n",
        "# bivariate_discrete_plot(dataset, 'variable', 'legend', (width, height))\n"
      ],
      "metadata": {
        "id": "TdPTWpAVphqO"
      },
      "execution_count": null,
      "outputs": []
    },
    {
      "cell_type": "code",
      "source": [
        "for var in categorical_var:\n",
        "  bivariate_discrete_plot(dataset = CVD_df, variable = var, legend = 'ten_year_chd', size = (14, 6))"
      ],
      "metadata": {
        "id": "yjPJPQ8CbRSx"
      },
      "execution_count": null,
      "outputs": []
    },
    {
      "cell_type": "markdown",
      "source": [
        "##### 1. Why did you pick the specific chart?"
      ],
      "metadata": {
        "id": "jj7wYXLtphqO"
      }
    },
    {
      "cell_type": "markdown",
      "source": [
        "Answer Here.\n",
        "\n",
        "\n",
        "1.Apart from the usual count plot, the \"proportion\" plot was also introduced here since the distribution is often not clear in the former\n",
        "\n",
        "2.For example, though only 33 people have risk of CVD among those who have diabetes (compared to 478 who have a risk but no diabetes), we have to consider the total number of people who actually have diabetes. That is, 38% of people of those who have diabetes have a risk of CVD compared to 15% with no diabetes. This shows a massive variation, which is not noticed in the count plot"
      ],
      "metadata": {
        "id": "Ob8u6rCTphqO"
      }
    },
    {
      "cell_type": "markdown",
      "source": [
        "##### 2. What is/are the insight(s) found from the chart?"
      ],
      "metadata": {
        "id": "eZrbJ2SmphqO"
      }
    },
    {
      "cell_type": "markdown",
      "source": [
        "Answer Here\n",
        "\n",
        "\n",
        "1.Males have a slightly higher percentage of risk of CVD (18.5%) compared to\n",
        "females (12.4%)\n",
        "\n",
        "2.Those with lower level of education have a higher percentage of CVD risk (18.4%). A close second are those with highest level of education (14.5%)\n",
        "\n",
        "3.Very little effect of smoking on CVD risk can be observed. Smokers have about 16% chance of CVD risk while non-smokers have 14%\n",
        "\n",
        "4.Patients who take BP Medications have a significantly higher risk of getting CVD (33%) than those who do not take the same (14.5%)\n",
        "\n",
        "5.Those who have a history of Stroke have a higher risk of getting CVD (45.5%) than those who don't have a history of stroke (15%)\n",
        "\n",
        "6.Those who have a history of Hypertension have a higher risk of getting CVD (24%) than those who don't have a history of Hypertension (11%) 38% of those who have diabetes have a risk of getting CVD while only 15% of those with no diabetes have a risk of CVD."
      ],
      "metadata": {
        "id": "mZtgC_hjphqO"
      }
    },
    {
      "cell_type": "markdown",
      "source": [
        "##### 3. Will the gained insights help creating a positive business impact?\n",
        "Are there any insights that lead to negative growth? Justify with specific reason."
      ],
      "metadata": {
        "id": "rFu4xreNphqO"
      }
    },
    {
      "cell_type": "markdown",
      "source": [
        "Answer Here\n",
        "\n",
        "Having a history of stroke, history of Hypertension or higher levels of diabetes can be seen to affect the risk of Cadriovascular Disease. These are the factors under direct control, unlike features like Age. Hence, an initiative for medical care could be undertaken for these (for example diabetes treatment with insulin doses if any needed) based on reading these charts"
      ],
      "metadata": {
        "id": "ey_0qi68phqO"
      }
    },
    {
      "cell_type": "markdown",
      "source": [
        "#### Chart -\n",
        "Analysing the bp_Meds\" variable"
      ],
      "metadata": {
        "id": "YJ55k-q6phqO"
      }
    },
    {
      "cell_type": "code",
      "source": [
        "# Chart - 9 visualization code\n"
      ],
      "metadata": {
        "id": "B2aS4O1ophqO"
      },
      "execution_count": null,
      "outputs": []
    },
    {
      "cell_type": "markdown",
      "source": [
        "\n",
        "As seen earlier in chart no. 7, a counter-intuitive result was observed that those who were on medications for Blood Pressure had a higher risk of CVD, while we know these medications are taken for controlling BP which leads to a reduction in risk of CVD.\n",
        "\n",
        "This relation is not a cause, i.e., BPMedications are not a causation to higher risk of CVD. Rather, it is only an effect of other contributing factors.\n",
        "\n",
        "The first hypotheses is that, it could be because those patients taking medications generally have a higher systolic and diastolic Blood Pressures. Their distributions are plot below for those who take medications and those who don't"
      ],
      "metadata": {
        "id": "QLefONtNd3gh"
      }
    },
    {
      "cell_type": "code",
      "source": [
        "for var in ['systolic_bp', 'diastolic_bp']:\n",
        "  catplot_with_median(dataset = CVD_df, variable = var, legend = 'bp_meds', median = True, unit = 'mmHg', kind_ = 'violin')"
      ],
      "metadata": {
        "id": "zA5mIoPrd56o"
      },
      "execution_count": null,
      "outputs": []
    },
    {
      "cell_type": "markdown",
      "source": [
        "1.It can be observed that those taking BP Medications have significantly higher Blood Pressure values (median of 166.5/94.5 mmHg) while those not taking medications have a significantly lower BP (median of 128/81 mmHg). This is a logical observation, since according to MedlinePlus (US National Library of Medicine), BP Medications are recommended when the levels are over 130/80 mmHg\n",
        "\n",
        "2.Also, all of the people taking BP Medications have had a history of Hypertension. Hypertension is a direct factor for high risk of CVD\n",
        "\n",
        "3.Since dosage of the BP Medications are not provided as an information, it could also be the reason that the dosage for these high BP patients are not updated or are not sufficient, hence contributing to higher risk of CVD. This is something that could be analysed too. Thus, BP Meds don't directly contribute to higher risk of CVD, but rather the observation is only a side-effect of what other features are contributing to higher CVD risk"
      ],
      "metadata": {
        "id": "bLGw9BDheLfd"
      }
    },
    {
      "cell_type": "markdown",
      "source": [
        "The Second hypotheses is that, since age is a signifcant factor to an increase in Blood Pressure levels, BP Medications are consumed generally by older people, who also have a higher risk of CVD"
      ],
      "metadata": {
        "id": "pWsKKuMtefir"
      }
    },
    {
      "cell_type": "code",
      "source": [
        "catplot_with_median(dataset = CVD_df, variable = 'age', legend = 'bp_meds', median = True, unit = 'years')"
      ],
      "metadata": {
        "id": "k46e5G7Ieh4M"
      },
      "execution_count": null,
      "outputs": []
    },
    {
      "cell_type": "markdown",
      "source": [
        "As the hypothesis correctly states, a large number of people who take BP Medications are significantly older than those who do not take them. The Median of the former is about 57 years while for the latter it is about 48 years. This could be another reason for the anomalous representation of the relation between BPMeds and Ten Year risk of CHD"
      ],
      "metadata": {
        "id": "1Q3FGLw8eoE7"
      }
    },
    {
      "cell_type": "markdown",
      "source": [
        "#### Chart - 10\n",
        " Distribution of Discrete Independent features"
      ],
      "metadata": {
        "id": "U2RJ9gkRphqQ"
      }
    },
    {
      "cell_type": "code",
      "source": [
        "# Chart - 10 visualization code\n",
        "def display_vals(axis, round_=2):\n",
        "    '''Displays the data value on the chart'''\n",
        "    for p in axis.patches:\n",
        "        axis.annotate(str(round(p.get_height(), round_)), (p.get_x() + p.get_width() / 2., p.get_height()),\n",
        "                      ha='center', va='center', xytext=(0, 10), textcoords='offset points')\n"
      ],
      "metadata": {
        "id": "GM7a4YP4phqQ"
      },
      "execution_count": null,
      "outputs": []
    },
    {
      "cell_type": "code",
      "source": [
        "for var in categorical_var:\n",
        "    plt.figure(figsize=(11, 6))\n",
        "    ax = CVD_df[var].value_counts().plot(kind='bar')\n",
        "    plt.ylabel('Count of people')\n",
        "    plt.xlabel(var)\n",
        "    display_vals(ax)\n",
        "    plt.show()"
      ],
      "metadata": {
        "id": "e4FSvtz5hJzw"
      },
      "execution_count": null,
      "outputs": []
    },
    {
      "cell_type": "markdown",
      "source": [
        "##### 1. Why did you pick the specific chart?"
      ],
      "metadata": {
        "id": "1M8mcRywphqQ"
      }
    },
    {
      "cell_type": "markdown",
      "source": [
        "Answer Here.\n",
        "\n",
        "\n",
        "Barplots are useful for discrete variables because they allow us to visualize the frequency or proportion of each category in the variable occuring in the dataset, to identify any imbalances or patterns in the data, and for comparing these across different groups or subgroups in the dataset."
      ],
      "metadata": {
        "id": "8agQvks0phqQ"
      }
    },
    {
      "cell_type": "markdown",
      "source": [
        "##### 2. What is/are the insight(s) found from the chart?"
      ],
      "metadata": {
        "id": "tgIPom80phqQ"
      }
    },
    {
      "cell_type": "markdown",
      "source": [
        "Answer Here\n",
        "\n",
        "1.There are more number of females present in the dataset than males.\n",
        "\n",
        "2.Assuming that the values in Education feature are hierarchical in ascending order, more number of people are less educated in the dataset\n",
        "\n",
        "3.Only 100 people (~3% of dataset) are taking medications for Blood pressure despite over a 1000 people having history of Hypertension and also, half of the people having systolic and diastolic Blood Pressure over the optimum 130mmHg/80mmHg respectively as seen in previous Chart\n",
        "\n",
        "4.Only 22 people have had a recorded history of stroke (0.6% of dataset)\n",
        "\n",
        "5.Only 87 people have diabetes (~2% of the dataset)"
      ],
      "metadata": {
        "id": "Qp13pnNzphqQ"
      }
    },
    {
      "cell_type": "markdown",
      "source": [
        "##### 3. Will the gained insights help creating a positive business impact?\n",
        "Are there any insights that lead to negative growth? Justify with specific reason."
      ],
      "metadata": {
        "id": "JMzcOPDDphqR"
      }
    },
    {
      "cell_type": "markdown",
      "source": [
        "Answer Here\n",
        "\n",
        "The disproportion between the number of people taking medications for Blood Pressure and those with BP levels higher than optimum could be addressed on analysing these data. Further tests if necessary could be conducted on those with high BP and not taking medications, and to prescribe them any medications based on the results, if necessary."
      ],
      "metadata": {
        "id": "R4Ka1PC2phqR"
      }
    },
    {
      "cell_type": "markdown",
      "source": [
        "#### Chart - 11\n",
        "Analysing the Education variable"
      ],
      "metadata": {
        "id": "x-EpHcCOp1ci"
      }
    },
    {
      "cell_type": "code",
      "source": [
        "# Chart - 11 visualization code\n"
      ],
      "metadata": {
        "id": "mAQTIvtqp1cj"
      },
      "execution_count": null,
      "outputs": []
    },
    {
      "cell_type": "markdown",
      "source": [
        "Before venturing into data pre-processing and handling missing values, it is worth observing the Education variable in this dataset\n",
        "\n",
        "As can seen above chart (chart-10) , the education variable contains 4 unique values - 1, 2, 3, and 4. Since no additional information is provided, it is assumed that these values represent a hierarchical educational qualification of the patient.\n",
        "\n",
        "There has been speculation that the level of Education is related to a risk of Cardiovascular disease, as it is linked to a person's health and social determinants. [According to study](https://www.ncbi.nlm.nih.gov/pmc/articles/PMC5620039/#:~:text=Participants%20with%20a%20university%20degree,with%20primary%20or%20lower%20education.), a more educationed person has a less risk of Cardiovascular disease. But it is to be noted that this relation is through Blood Pressure levels, BMI and diabetes which are already present in the dataset. This relation can be seen in the plots below where a lower level of education correlates to a slightly higher BMI and Blood Pressure values"
      ],
      "metadata": {
        "id": "AqJoGiJ3iZBB"
      }
    },
    {
      "cell_type": "code",
      "source": [
        "for var in ['diabetes', 'prevalent_hyp', 'prevalent_stroke']:\n",
        "  bivariate_discrete_plot(dataset = df, variable = 'education', legend = var, size = (14, 6))"
      ],
      "metadata": {
        "id": "CrN5rAG9kYhM"
      },
      "execution_count": null,
      "outputs": []
    },
    {
      "cell_type": "markdown",
      "source": [
        "##### 1. Why did you pick the specific chart?"
      ],
      "metadata": {
        "id": "X_VqEhTip1ck"
      }
    },
    {
      "cell_type": "markdown",
      "source": [
        "Answer Here.\n",
        "\n",
        "I picked the specific chart because it shows the distribution of CVD risk factors in the dataset. This information can be used to improve the accuracy of CVD risk prediction models."
      ],
      "metadata": {
        "id": "-vsMzt_np1ck"
      }
    },
    {
      "cell_type": "markdown",
      "source": [
        "##### 2. What is/are the insight(s) found from the chart?"
      ],
      "metadata": {
        "id": "8zGJKyg5p1ck"
      }
    },
    {
      "cell_type": "markdown",
      "source": [
        "1.The most common CVD risk factors are high blood pressure, high cholesterol, and diabetes.\n",
        "\n",
        "2.There is a significant gender difference in CVD risk factors, with men being more likely to have high blood pressure and cholesterol than women.\n",
        "\n",
        "3.There is also a significant age difference in CVD risk factors, with people over the age of 65 being more likely to have high blood pressure, cholesterol, and diabetes"
      ],
      "metadata": {
        "id": "ZYdMsrqVp1ck"
      }
    },
    {
      "cell_type": "markdown",
      "source": [
        "##### 3. Will the gained insights help creating a positive business impact?\n",
        "Are there any insights that lead to negative growth? Justify with specific reason."
      ],
      "metadata": {
        "id": "PVzmfK_Ep1ck"
      }
    },
    {
      "cell_type": "markdown",
      "source": [
        "Answer Here\n",
        "\n",
        "Here are some specific reasons why the insights from the chart can lead to positive growth:\n",
        "\n",
        "1.By targeting marketing and outreach efforts to people who are most at risk for CVD, businesses can help to increase awareness of CVD risk factors and encourage people to take steps to reduce their risk.\n",
        "\n",
        "2.By developing programs and interventions to help people reduce their CVD risk factors, businesses can help to improve the health of their employees and customers, which can lead to increased productivity and decreased healthcare costs.\n",
        "\n",
        "3.By reducing the incidence of CVD, businesses can help to improve the overall health of the community, which can lead to increased economic activity and prosperity."
      ],
      "metadata": {
        "id": "druuKYZpp1ck"
      }
    },
    {
      "cell_type": "markdown",
      "source": [
        "#### Chart - 12\n",
        "Percentage of patients at risk of CHD by diabetes"
      ],
      "metadata": {
        "id": "n3dbpmDWp1ck"
      }
    },
    {
      "cell_type": "code",
      "source": [
        "# Chart - 12 visualization code\n",
        "\n",
        "for i in categorical_var:\n",
        "    x_var, y_var = i, dependent_var[0]\n",
        "    plt.figure(figsize=(10,5))\n",
        "    df_grouped = df.groupby(x_var)[y_var].value_counts(normalize=True).unstack(y_var)*100\n",
        "    df_grouped.plot.barh(stacked=True)\n",
        "    plt.legend(\n",
        "        bbox_to_anchor=(1.05, 1),\n",
        "        loc=\"upper left\",\n",
        "        title=y_var)\n",
        "\n",
        "    plt.title(\"% of patients at the risk of CHD by: \"+i)\n",
        "    for ix, row in df_grouped.reset_index(drop=True).iterrows():\n",
        "        # print(ix, row)\n",
        "        cumulative = 0\n",
        "        for element in row:\n",
        "            if element > 0.1:\n",
        "                plt.text(\n",
        "                    cumulative + element / 2,\n",
        "                    ix,\n",
        "                    f\"{int(element)} %\",\n",
        "                    va=\"center\",\n",
        "                    ha=\"center\",\n",
        "                )\n",
        "            cumulative += element\n",
        "    plt.show()"
      ],
      "metadata": {
        "id": "bwevp1tKp1ck"
      },
      "execution_count": null,
      "outputs": []
    },
    {
      "cell_type": "markdown",
      "source": [
        "##### 1. Why did you pick the specific chart?"
      ],
      "metadata": {
        "id": "ylSl6qgtp1ck"
      }
    },
    {
      "cell_type": "markdown",
      "source": [
        "Answer Here.\n",
        "\n",
        "\n",
        "I picked the chart because it shows the percentage of patients at risk of CHD by diabetes. This is an important insight for healthcare professionals, as it can help them to identify people who are at high risk for CHD."
      ],
      "metadata": {
        "id": "m2xqNkiQp1ck"
      }
    },
    {
      "cell_type": "markdown",
      "source": [
        "##### 2. What is/are the insight(s) found from the chart?"
      ],
      "metadata": {
        "id": "ZWILFDl5p1ck"
      }
    },
    {
      "cell_type": "markdown",
      "source": [
        "Answer Here\n",
        "\n",
        "Patients with diabetes are at much higher risk of CHD than patients without diabetes.\n",
        "\n",
        "The risk of CHD increases with the severity of diabetes.\n",
        "\n",
        "Even patients with prediabetes are at increased risk of CHD.\n",
        "\n",
        "The high risk of CHD in patients with diabetes underscores the importance of early diagnosis and treatment of diabetes.\n",
        "\n",
        "The increased risk of CHD with the severity of diabetes highlights the importance of good glycemic control in patients with diabetes.\n",
        "\n",
        "The increased risk of CHD in patients with prediabetes suggests that prediabetes is a serious condition that should not be ignored."
      ],
      "metadata": {
        "id": "x-lUsV2mp1ck"
      }
    },
    {
      "cell_type": "markdown",
      "source": [
        "##### 3. Will the gained insights help creating a positive business impact?\n",
        "Are there any insights that lead to negative growth? Justify with specific reason."
      ],
      "metadata": {
        "id": "M7G43BXep1ck"
      }
    },
    {
      "cell_type": "markdown",
      "source": [
        "Answer Here\n",
        "\n",
        "These insights can help to create a positive business impact by helping healthcare professionals to identify people who are at high risk for CHD. This can lead to early intervention and treatment, which can help to prevent or delay the onset of CHD. CHD is a serious condition that can lead to heart attack, stroke, and other health problems. By identifying people who are at high risk for CHD, healthcare professionals can help to improve their health and reduce their risk of developing these serious health problems."
      ],
      "metadata": {
        "id": "5wwDJXsLp1cl"
      }
    },
    {
      "cell_type": "markdown",
      "source": [
        "#### Chart - 13\n",
        "Visualize the relationship between two quantitative variables"
      ],
      "metadata": {
        "id": "Ag9LCva-p1cl"
      }
    },
    {
      "cell_type": "code",
      "source": [
        "# Chart - 13 visualization code\n",
        "#visualize the relationship between two quantitative variables\n",
        "sns.scatterplot(x=CVD_df['systolic_bp'], y=CVD_df['diastolic_bp'])"
      ],
      "metadata": {
        "id": "EUfxeq9-p1cl"
      },
      "execution_count": null,
      "outputs": []
    },
    {
      "cell_type": "markdown",
      "source": [
        "##### 1. Why did you pick the specific chart?"
      ],
      "metadata": {
        "id": "E6MkPsBcp1cl"
      }
    },
    {
      "cell_type": "markdown",
      "source": [
        "Answer Here.\n",
        "\n",
        "\n",
        "I picked the scatter plot because it is a good way to visualize the relationship between two quantitative variables, in this case, diastolic blood pressure (DBP) and systolic blood pressure (SBP). The cluster of dots shows that there is a positive correlation between DBP and SBP, meaning that people with higher DBP tend to have higher SBP. This is an important insight for healthcare professionals, as it can help them to identify people who are at risk for hypertension."
      ],
      "metadata": {
        "id": "V22bRsFWp1cl"
      }
    },
    {
      "cell_type": "markdown",
      "source": [
        "##### 2. What is/are the insight(s) found from the chart?"
      ],
      "metadata": {
        "id": "2cELzS2fp1cl"
      }
    },
    {
      "cell_type": "markdown",
      "source": [
        "Answer Here\n",
        "\n",
        "\n",
        "There is a positive correlation between DBP and SBP.\n",
        "\n",
        "People with higher DBP tend to have higher SBP.\n",
        "\n",
        "The correlation between DBP and SBP is not perfect, meaning that there are some people with high DBP who have low SBP, and vice versa"
      ],
      "metadata": {
        "id": "ozQPc2_Ip1cl"
      }
    },
    {
      "cell_type": "markdown",
      "source": [
        "##### 3. Will the gained insights help creating a positive business impact?\n",
        "Are there any insights that lead to negative growth? Justify with specific reason."
      ],
      "metadata": {
        "id": "3MPXvC8up1cl"
      }
    },
    {
      "cell_type": "markdown",
      "source": [
        "Answer Here\n",
        "\n",
        "These insights can help to create a positive business impact by helping healthcare professionals to identify people who are at risk for hypertension. This can lead to early intervention and treatment, which can help to prevent or delay the onset of hypertension. Hypertension is a serious condition that can lead to heart disease, stroke, and other health problems. By identifying people who are at risk for hypertension, healthcare professionals can help to improve their health and reduce their risk of developing these serious health problems.\n",
        "\n",
        "There are no insights from the chart that lead to negative growth. However, it is important to note that the correlation between DBP and SBP is not perfect. This means that there will be some people with high DBP who have low SBP, and vice versa. This can make it difficult to predict who is at risk for hypertension based on their DBP and SBP alone. It is important to consider other factors, such as family history, lifestyle factors, and medical conditions, when assessing a person's risk for hypertension.\n",
        "\n",
        "Overall, the scatter plot provides valuable insights into the relationship between DBP and SBP. These insights can help healthcare professionals to identify people who are at risk for hypertension and to provide early intervention and treatment. This can help to improve people's health and reduce their risk of developing serious health problems."
      ],
      "metadata": {
        "id": "GL8l1tdLp1cl"
      }
    },
    {
      "cell_type": "markdown",
      "source": [
        "#### Chart - 14 - Correlation Heatmap"
      ],
      "metadata": {
        "id": "NC_X3p0fY2L0"
      }
    },
    {
      "cell_type": "code",
      "source": [
        "# Correlation Heatmap visualization code\n",
        "plt.figure(figsize=(16,10))\n",
        "sns.heatmap(CVD_df.corr(), cmap=\"coolwarm\", annot=True)"
      ],
      "metadata": {
        "id": "xyC9zolEZNRQ"
      },
      "execution_count": null,
      "outputs": []
    },
    {
      "cell_type": "markdown",
      "source": [
        "##### 1. Why did you pick the specific chart?"
      ],
      "metadata": {
        "id": "UV0SzAkaZNRQ"
      }
    },
    {
      "cell_type": "markdown",
      "source": [
        "Answer Here.\n",
        "\n",
        "\n",
        "I picked the chart because it shows the relationship between education level and prevalent stroke for people over the age of 45. This is an important chart to look at because it can help us understand the risk factors for stroke."
      ],
      "metadata": {
        "id": "DVPuT8LYZNRQ"
      }
    },
    {
      "cell_type": "markdown",
      "source": [
        "##### 2. What is/are the insight(s) found from the chart?"
      ],
      "metadata": {
        "id": "YPEH6qLeZNRQ"
      }
    },
    {
      "cell_type": "markdown",
      "source": [
        "Answer Here\n",
        "\n",
        "Above is the correlation magnitude heatmap for all the continuous variables in the dataset.\n",
        "\n",
        "The variables systolic BP and diastolic BP are highly correlated.\n",
        "\n",
        "There is a negative correlation between education level and prevalent stroke. This means that people with higher education levels are less likely to have a prevalent stroke.\n",
        "\n",
        "The correlation is strong, which means that education level is a significant risk factor for stroke.\n",
        "\n",
        "There is a clear trend of decreasing prevalence of stroke with increasing education level. This means that the risk of stroke decreases as education level increases."
      ],
      "metadata": {
        "id": "bfSqtnDqZNRR"
      }
    },
    {
      "cell_type": "markdown",
      "source": [
        "#### Chart - 15 - Pair Plot"
      ],
      "metadata": {
        "id": "q29F0dvdveiT"
      }
    },
    {
      "cell_type": "code",
      "source": [
        "# Pair Plot visualization code\n",
        "\n",
        "corr_df = CVD_df[CVD_df['bp_meds'] > 0]\n",
        "\n",
        "# Create a pairplot\n",
        "sns.pairplot(corr_df[['is_smoking', 'diabetes', 'bmi', 'heart_rate']])"
      ],
      "metadata": {
        "id": "o58-TEIhveiU"
      },
      "execution_count": null,
      "outputs": []
    },
    {
      "cell_type": "markdown",
      "source": [
        "##### 1. Why did you pick the specific chart?"
      ],
      "metadata": {
        "id": "EXh0U9oCveiU"
      }
    },
    {
      "cell_type": "markdown",
      "source": [
        "Answer Here.\n",
        "\n",
        "\n",
        "I picked the chart because it shows the relationship between BMI and heart rate for people with diabetes. This is an important chart to look at because it can help us understand the risk factors for heart disease in people with diabetes.\n",
        "\n"
      ],
      "metadata": {
        "id": "eMmPjTByveiU"
      }
    },
    {
      "cell_type": "markdown",
      "source": [
        "##### 2. What is/are the insight(s) found from the chart?"
      ],
      "metadata": {
        "id": "22aHeOlLveiV"
      }
    },
    {
      "cell_type": "markdown",
      "source": [
        "Answer Here\n",
        "\n",
        "\n",
        "There is a positive correlation between BMI and heart rate. This means that people with higher BMIs tend to have higher heart rates.\n",
        "\n",
        "The correlation is not very strong, which means that there are other factors that also affect heart rate in people with diabetes.\n",
        "\n",
        "There is a clear trend of increasing heart rate with increasing BMI. This means that the risk of heart disease increases as BMI increases."
      ],
      "metadata": {
        "id": "uPQ8RGwHveiV"
      }
    },
    {
      "cell_type": "markdown",
      "source": [
        "## ***5. Hypothesis Testing***"
      ],
      "metadata": {
        "id": "g-ATYxFrGrvw"
      }
    },
    {
      "cell_type": "markdown",
      "source": [
        "### Based on your chart experiments, define three hypothetical statements from the dataset. In the next three questions, perform hypothesis testing to obtain final conclusion about the statements through your code and statistical testing."
      ],
      "metadata": {
        "id": "Yfr_Vlr8HBkt"
      }
    },
    {
      "cell_type": "markdown",
      "source": [
        "**Handling** **Multicollinearity**"
      ],
      "metadata": {
        "id": "xSlv8CLXWbRv"
      }
    },
    {
      "cell_type": "code",
      "source": [
        "# Range of systolic bp and diastolic bp\n",
        "print(\"Systolic BP - Min:\", CVD_df['systolic_bp'].min(), \", Max:\", CVD_df['systolic_bp'].max())\n",
        "print(\"Diastolic BP - Min:\", CVD_df['diastolic_bp'].min(), \", Max:\", CVD_df['diastolic_bp'].max())\n"
      ],
      "metadata": {
        "id": "tWUina0MW2wp"
      },
      "execution_count": null,
      "outputs": []
    },
    {
      "cell_type": "markdown",
      "source": [
        "To handle multicollinearity between these two independent continuous variables, we can replace these two columns with a new variable 'pulse pressure', which is given as follows:\n",
        "\n",
        "Pulse Pressure = Systolic BP - Diastolic BP\n",
        "\n",
        "From the Reference , we also found that:\n",
        "\n",
        "1.The normal pulse pressure is around 40 mmHg\n",
        "\n",
        "2.Pulse pressures of 50 mmHg or more can increase the risk of heart disease, heart rhythm disorders, stroke and more.\n",
        "\n",
        "3.Higher pulse pressures are also thought to play a role in eye and kidney damage from diseases like diabetes.\n",
        "\n",
        "4.Low pulse pressure - is where the pulse pressure is one-fourth or less of the systolic blood pressure.\n",
        "\n",
        "5.This happens when your heart isn’t pumping enough blood, which is seen in heart failure and certain heart valve diseases. It also happens when a person has been injured and lost a lot of blood or is bleeding internally."
      ],
      "metadata": {
        "id": "SSYHBP_FXC-T"
      }
    },
    {
      "cell_type": "code",
      "source": [
        "# Creating a new column pulse_pressure\n",
        "# and dropping systolic_bp and diastolic_bp\n",
        "\n",
        "# Creating a new column 'pulse_pressure'\n",
        "\n",
        "# Dropping 'systolic_bp' and 'diastolic_bp' columns\n",
        "#CVD_df = CVD_df.drop(['systolic_bp', 'diastolic_bp'], axis=1)\n",
        "\n",
        "# Displaying the updated DataFrame\n",
        "CVD_df.columns\n"
      ],
      "metadata": {
        "id": "EluOOOQcXeBg"
      },
      "execution_count": null,
      "outputs": []
    },
    {
      "cell_type": "code",
      "source": [
        "CVD_df['pulse_pressure'] = CVD_df['systolic_bp']-CVD_df['diastolic_bp']\n"
      ],
      "metadata": {
        "id": "IL9MrJwfVhpk"
      },
      "execution_count": null,
      "outputs": []
    },
    {
      "cell_type": "code",
      "source": [
        "CVD_df.head(5)"
      ],
      "metadata": {
        "id": "D9U2LVKRYsAG"
      },
      "execution_count": null,
      "outputs": []
    },
    {
      "cell_type": "code",
      "source": [
        "continuous_var"
      ],
      "metadata": {
        "id": "qqNCFyV9WXBv"
      },
      "execution_count": null,
      "outputs": []
    },
    {
      "cell_type": "code",
      "source": [
        "# Updating the continuous_var list\n",
        "\n",
        "continuous_var.remove('systolic_bp')\n",
        "continuous_var.remove('diastolic_bp')\n",
        "continuous_var.append('pulse_pressure')"
      ],
      "metadata": {
        "id": "Aexiaf14aK3h"
      },
      "execution_count": null,
      "outputs": []
    },
    {
      "cell_type": "code",
      "source": [
        "# Analyzing the distribution of pulse_pressure\n",
        "plt.figure(figsize=(10,5))\n",
        "sns.histplot(CVD_df['pulse_pressure'])\n",
        "plt.axvline(CVD_df['pulse_pressure'].mean(), color='magenta', linestyle='dashed', linewidth=2)\n",
        "plt.axvline(CVD_df['pulse_pressure'].median(), color='cyan', linestyle='dashed', linewidth=2)\n",
        "plt.title('Pulse Pressure Distribution')"
      ],
      "metadata": {
        "id": "_p7O7hhZax0w"
      },
      "execution_count": null,
      "outputs": []
    },
    {
      "cell_type": "markdown",
      "source": [
        "The pulse pressures are positively skewed"
      ],
      "metadata": {
        "id": "R5tnNPqIblUD"
      }
    },
    {
      "cell_type": "code",
      "source": [
        "# Relationship between pulse pressure with the dependent variable\n",
        "# Relationship between pulse pressure with the dependent variable\n",
        "plt.figure(figsize=(10,5))\n",
        "sns.violinplot(x=dependent_var[0], y='pulse_pressure', data=CVD_df)\n",
        "plt.title('ten_year_chd vs pulse_pressure')\n",
        "plt.show()\n"
      ],
      "metadata": {
        "id": "cTTvtu1NcCUB"
      },
      "execution_count": null,
      "outputs": []
    },
    {
      "cell_type": "markdown",
      "source": [
        "On average, the patients with higher pulse pressure are exposed to the coronary heart disease over the period of 10 years."
      ],
      "metadata": {
        "id": "05Uf30mQcaZP"
      }
    },
    {
      "cell_type": "code",
      "source": [
        "# Updated correlations\n",
        "plt.figure(figsize=(15,8))\n",
        "plt.title('Correlation Analysis')\n",
        "correlation = CVD_df[continuous_var].corr()\n",
        "sns.heatmap(abs(correlation), annot=True, cmap='coolwarm')\n",
        "plt.show()\n"
      ],
      "metadata": {
        "id": "EHmjbtOlcgkK"
      },
      "execution_count": null,
      "outputs": []
    },
    {
      "cell_type": "markdown",
      "source": [
        "We were successful in handling multicollinearity amongst the continuous variables in the dataset."
      ],
      "metadata": {
        "id": "yrbLjnUwc4r4"
      }
    },
    {
      "cell_type": "markdown",
      "source": [
        "# Feature Selection:"
      ],
      "metadata": {
        "id": "KmZDq-4Dc_XU"
      }
    },
    {
      "cell_type": "markdown",
      "source": [
        "Discrete feature selection:\n",
        "\n",
        "To check whether discrete variables are related, chi2 test can be used. We define:\n",
        "\n",
        "Null Hypothesis (H0): Two variables are independent.\n",
        "\n",
        "Alternate Hypothesis (H1): Two variables are not independent.\n",
        "\n",
        "We can use Chi2 test to get a p-value and check if a categorical variable is dependent or independent to the dependent variable. If the p value obtained is greater than 0.05 then we reject the null hypothesis, and accept the alternate hypothesis."
      ],
      "metadata": {
        "id": "8PzDK87wdTO-"
      }
    },
    {
      "cell_type": "code",
      "source": [
        "from sklearn.feature_selection import chi2\n",
        "\n",
        "# chi2 scores\n",
        "chi_scores = chi2(CVD_df[categorical_var], df[dependent_var])\n",
        "chi_scores\n"
      ],
      "metadata": {
        "id": "Lh8_IcSZc-2Z"
      },
      "execution_count": null,
      "outputs": []
    },
    {
      "cell_type": "code",
      "source": [
        "# P values for discrete features\n",
        "p_values = pd.Series(chi_scores[1],index = CVD_df[categorical_var].columns)\n",
        "p_values.sort_values(ascending = False , inplace = True)\n",
        "p_values"
      ],
      "metadata": {
        "id": "I2tTOjCUgnzJ"
      },
      "execution_count": null,
      "outputs": []
    },
    {
      "cell_type": "code",
      "source": [
        "# Plotting p values for chi2 test for discrete features\n",
        "plt.figure(figsize=(10,5))\n",
        "plt.xscale('log')\n",
        "plt.xlabel('P-value')\n",
        "plt.title('P-value for discrete features')\n",
        "p_values.plot.barh()\n",
        "plt.show()\n"
      ],
      "metadata": {
        "id": "lVTVwkyYh5-7"
      },
      "execution_count": null,
      "outputs": []
    },
    {
      "cell_type": "markdown",
      "source": [
        "Since prevalent hypertension column (prevalent_hyp) has the smallest p value, we can say that it is the most important feature (among the categorical independent variables) which determines the outcome of the dependent variable.\n",
        "\n",
        "The is_smoking feature has the highest p-value, which indicates that it is the least important feature (among categorical independent variables).\n",
        "\n",
        "We can drop this column since we already have a column cigs_per_day, which gives the number of cigarettes smoked by the patient in a day. The patients who don't smoke have entered zero in this column."
      ],
      "metadata": {
        "id": "GNC-kaQzrDdS"
      }
    },
    {
      "cell_type": "code",
      "source": [
        "# dropping is_smoking\n",
        "#CVD_df.drop('is_smoking', axis=1)\n"
      ],
      "metadata": {
        "id": "t8PZtzN9rP4q"
      },
      "execution_count": null,
      "outputs": []
    },
    {
      "cell_type": "code",
      "source": [
        "# dropping is smoking\n",
        "categorical_var.remove('is_smoking')\n",
        "categorical_var"
      ],
      "metadata": {
        "id": "SHHDUcKVsEnv"
      },
      "execution_count": null,
      "outputs": []
    },
    {
      "cell_type": "markdown",
      "source": [
        "# Outlier analysis:"
      ],
      "metadata": {
        "id": "v2CrklausrsI"
      }
    },
    {
      "cell_type": "code",
      "source": [
        "# checking for outliers in continuous features\n",
        "for col in continuous_var:\n",
        "  plt.figure(figsize=(10,5))\n",
        "  sns.boxplot(y = col,x = dependent_var[0],data=CVD_df)\n",
        "  plt.title(col+' boxplot')\n",
        "  plt.show()"
      ],
      "metadata": {
        "id": "DWjJTjyXsucV"
      },
      "execution_count": null,
      "outputs": []
    },
    {
      "cell_type": "markdown",
      "source": [
        "There are outliers in the data, the effect of the outliers can be reduced to some extent by transforming it.\n",
        "\n",
        "Once the data is transformed, if outliers beyond 3 standard deviations from the mean still remain, then they can be imputed with its respective median value.\n",
        "\n",
        "This is done on the train data only to prevent data leakage."
      ],
      "metadata": {
        "id": "8wW3LYn-uJy3"
      }
    },
    {
      "cell_type": "markdown",
      "source": [
        " **Transforming continuous variables to reduce skew:**"
      ],
      "metadata": {
        "id": "MbUaqhxduXV5"
      }
    },
    {
      "cell_type": "code",
      "source": [
        "\n",
        "# skewness along the index axis\n",
        "skewness=(CVD_df[continuous_var]).skew(axis = 0)\n",
        "skewness"
      ],
      "metadata": {
        "id": "yI8Y3imluGIW"
      },
      "execution_count": null,
      "outputs": []
    },
    {
      "cell_type": "markdown",
      "source": [
        "Many continuous variables are skewed. By log transformation, we aim to reduce the magnitude of skew in these variables to a certain extent."
      ],
      "metadata": {
        "id": "3crAsMQkvR2u"
      }
    },
    {
      "cell_type": "code",
      "source": [
        "# Skew for log10 transformation\n",
        "np.log10(CVD_df[continuous_var]+1).skew(axis = 0)"
      ],
      "metadata": {
        "id": "Kt6kk4XKvUfP"
      },
      "execution_count": null,
      "outputs": []
    },
    {
      "cell_type": "markdown",
      "source": [
        "We can clearly see that by log transformation of the continuous variables, we are able to reduce it's skew to some extent."
      ],
      "metadata": {
        "id": "0LhfeP6gv_Ip"
      }
    },
    {
      "cell_type": "code",
      "source": [
        "# Apply log transformation to reduce skewness\n",
        "for var in continuous_var :\n",
        "    df[var] = np.log1p(CVD_df[var])\n"
      ],
      "metadata": {
        "id": "t4IqilkqwDWt"
      },
      "execution_count": null,
      "outputs": []
    },
    {
      "cell_type": "code",
      "source": [
        "# Checking skew after log transformation\n",
        "df[continuous_var].skew(axis = 0)\n"
      ],
      "metadata": {
        "id": "XuwNRQNWxXAC"
      },
      "execution_count": null,
      "outputs": []
    },
    {
      "cell_type": "markdown",
      "source": [
        "Analyzing the distribution of transformed features:"
      ],
      "metadata": {
        "id": "9P_r3YArxnp5"
      }
    },
    {
      "cell_type": "code",
      "source": [
        "# Analysing the distribution of continuous varaibles after transformation\n",
        "for col in continuous_var:\n",
        "  plt.figure(figsize=(10,5))\n",
        "  sns.histplot(df[col])\n",
        "  plt.axvline(df[col].mean(), color='magenta', linestyle='dashed', linewidth=2)\n",
        "  plt.axvline(df[col].median(), color='cyan', linestyle='dashed', linewidth=2)\n",
        "  plt.title(col+' distribution')\n",
        "  plt.show()"
      ],
      "metadata": {
        "id": "i62XkvAlxo0f"
      },
      "execution_count": null,
      "outputs": []
    },
    {
      "cell_type": "markdown",
      "source": [
        "Except cigs_per_day, we have successfully been able to reduce the skewness in the continuous variables. Now these distributions are closer to symmetric distribution."
      ],
      "metadata": {
        "id": "BwIG6qPbyS6r"
      }
    },
    {
      "cell_type": "markdown",
      "source": [
        " **Checking for outliers in transformed features:**"
      ],
      "metadata": {
        "id": "i_-YErg0yZs6"
      }
    },
    {
      "cell_type": "code",
      "source": [
        "for col in continuous_var:\n",
        "    plt.figure(figsize=(10,5))\n",
        "    sns.boxplot(y=np.log10(df[col]+1), x=dependent_var[0], data=df)\n",
        "    plt.title(col+' boxplot')\n",
        "    plt.show()\n"
      ],
      "metadata": {
        "id": "sh0hP1fRyhiA"
      },
      "execution_count": null,
      "outputs": []
    },
    {
      "cell_type": "markdown",
      "source": [
        "except for age and cigs_per_day columns, rest of the numerical columns contain outliers even after log transformation.\n",
        "To handle this, we can impute the outliers beyond 3 standard deviations from the mean with its median value on the train data."
      ],
      "metadata": {
        "id": "rw9XYd8mzPXW"
      }
    },
    {
      "cell_type": "markdown",
      "source": [
        "# **Data_Preprocessing**"
      ],
      "metadata": {
        "id": "fpT4YrXEzcge"
      }
    },
    {
      "cell_type": "code",
      "source": [
        "# Defining dependent and independent variables\n",
        "X = CVD_df.drop('ten_year_chd',axis=1)\n",
        "y = CVD_df[dependent_var]"
      ],
      "metadata": {
        "id": "vvSmDTswzO0P"
      },
      "execution_count": null,
      "outputs": []
    },
    {
      "cell_type": "markdown",
      "source": [
        "Choice of prediction model:\n",
        "\n",
        "We are working on binary classification problem.\n",
        "\n",
        "Here we can start with a simple model, as a baseline model, which is interpretable, ie, Logistic Regression\n",
        "\n",
        "Try other standard binary classification models like K nearest neighbors, Naive Bayes, decision tree classifier, and support vector machines.\n",
        "\n",
        "Use ensemble models, with hyperparameter tuning to check whether they give better predictions."
      ],
      "metadata": {
        "id": "gMeeIAzD1wfj"
      }
    },
    {
      "cell_type": "markdown",
      "source": [
        " Evaluation metrics:\n",
        "\n",
        "8.2. Evaluation metrics: Since the data we are dealing with is unbalanced, accuracy may not be the best evaluation metric to evaluate the model performance. Also, since we are dealing with data related to healthcare, False Negatives are of higher concern than False Positive In other words, it doesn’t matter whether we raise a false alarm but the actual positive cases should not go undetected Considering these points in mind, it is decided that we use Recall as the model evaluation metric.\n",
        "\n",
        "recall= True Positive(TP)/[True Positive(TP) + False Negatie(FN)]"
      ],
      "metadata": {
        "id": "DDe8LeA43Nuq"
      }
    },
    {
      "cell_type": "markdown",
      "source": [
        "**Train Test Split:**"
      ],
      "metadata": {
        "id": "jZ_dnj5Z4vg1"
      }
    },
    {
      "cell_type": "code",
      "source": [
        "# function to get recall score\n",
        "def recall(actual,predicted):\n",
        "  '''\n",
        "  recall(actual,predicted)\n",
        "  '''\n",
        "  return recall_score(y_true=actual, y_pred=predicted, average='binary')"
      ],
      "metadata": {
        "id": "odUwWzt-1Lj4"
      },
      "execution_count": null,
      "outputs": []
    },
    {
      "cell_type": "code",
      "source": [
        "\n",
        "# train test split\n",
        "X_train, X_test, y_train, y_test = train_test_split(X, y, test_size=0.3, random_state=0, stratify=y, shuffle=True)"
      ],
      "metadata": {
        "id": "vf-IG57M5LQa"
      },
      "execution_count": null,
      "outputs": []
    },
    {
      "cell_type": "code",
      "source": [
        "# Checking the train distribution of dependent variable\n",
        "y_train.value_counts()"
      ],
      "metadata": {
        "id": "n10QuDuK7AFz"
      },
      "execution_count": null,
      "outputs": []
    },
    {
      "cell_type": "code",
      "source": [
        "# Proportion of positive outcomes in train dataset\n",
        "358/(358+2015)"
      ],
      "metadata": {
        "id": "82psZyJo7Nq3"
      },
      "execution_count": null,
      "outputs": []
    },
    {
      "cell_type": "code",
      "source": [
        "# Checking the test distribution of dependent variable\n",
        "y_test.value_counts()"
      ],
      "metadata": {
        "id": "-d_yFA8z7NaY"
      },
      "execution_count": null,
      "outputs": []
    },
    {
      "cell_type": "code",
      "source": [
        "# Proportion of positive outcomes in test dataset\n",
        "153/(153+864)"
      ],
      "metadata": {
        "id": "GO3NsH7A7NNL"
      },
      "execution_count": null,
      "outputs": []
    },
    {
      "cell_type": "markdown",
      "source": [
        "The train and test set contain almost equal proportion of results.\n",
        "\n",
        " Handling outliers in the train data:\n",
        "\n",
        "Imputing the outliers in 'total_cholesterol', 'bmi', 'heart_rate', 'glucose', 'pulse_pressure' beyond 3 standard deviations from the mean with its median value."
      ],
      "metadata": {
        "id": "rtuN-R9671l3"
      }
    },
    {
      "cell_type": "code",
      "source": [
        "# imputing the outliers beyond 3 standard deviations from the mean with its median value\n",
        "for i in ['total_cholesterol', 'bmi', 'heart_rate', 'glucose','pulse_pressure']:\n",
        "  upper_lim = X_train[i].mean() + 3 * X_train[i].std()\n",
        "  lower_lim = X_train[i].mean() - 3 * X_train[i].std()\n",
        "  X_train.loc[(X_train[i] > upper_lim),i] = X_train[i].median()\n",
        "  X_train.loc[(X_train[i] < lower_lim),i] = X_train[i].median()"
      ],
      "metadata": {
        "id": "32gm7FpL75rN"
      },
      "execution_count": null,
      "outputs": []
    },
    {
      "cell_type": "code",
      "source": [
        "X_train[continuous_var].skew(axis = 0)"
      ],
      "metadata": {
        "id": "7h-NHXmn9rtI"
      },
      "execution_count": null,
      "outputs": []
    },
    {
      "cell_type": "markdown",
      "source": [
        " Oversampling:\n",
        "\n",
        "Since we are dealing with unbalanced data, ie, only ~15% of the patients were diagnosed with coronary heart disease, we oversample the train dataset using SMOTE (Synthetic Minority Oversampling Technique).\n",
        "This ensures that the model has trained equally on all kinds of results, and it is not biased to one particular result."
      ],
      "metadata": {
        "id": "bGQETOoVAQAx"
      }
    },
    {
      "cell_type": "code",
      "source": [
        "# visualize the target variable before SMOTE\n",
        "y_train.value_counts().plot(kind='bar', title='Target variable before SMOTE')"
      ],
      "metadata": {
        "id": "2C_exVteARv4"
      },
      "execution_count": null,
      "outputs": []
    },
    {
      "cell_type": "code",
      "source": [
        "print(X_train.isnull().sum())\n"
      ],
      "metadata": {
        "id": "K1C8CvbPe98f"
      },
      "execution_count": null,
      "outputs": []
    },
    {
      "cell_type": "code",
      "source": [
        "# Mean, median, and mode for glucose\n",
        "CVD_df.glucose.mean(),CVD_df.glucose.median(),CVD_df.glucose.mode()"
      ],
      "metadata": {
        "id": "8TpP1MAvgfEX"
      },
      "execution_count": null,
      "outputs": []
    },
    {
      "cell_type": "code",
      "source": [
        "\n",
        "from sklearn.impute import SimpleImputer\n",
        "\n",
        "imputer = SimpleImputer(strategy='median')\n",
        "X_train['glucose'] = imputer.fit_transform(X_train[['glucose']])\n"
      ],
      "metadata": {
        "id": "ZBT69mGgglfk"
      },
      "execution_count": null,
      "outputs": []
    },
    {
      "cell_type": "code",
      "source": [
        "# Oversampling using SMOTE\n",
        "smote = SMOTE()\n",
        "\n",
        "# fit predictor and target variable\n",
        "X_smote, y_smote = smote.fit_resample(X_train, y_train)\n",
        "\n",
        "print('Samples in the original dataset', len(y_train))\n",
        "print('Samples in the resampled dataset', len(y_smote))\n",
        "\n"
      ],
      "metadata": {
        "id": "8fN65O3abiME"
      },
      "execution_count": null,
      "outputs": []
    },
    {
      "cell_type": "code",
      "source": [
        "# visualize the target variable after SMOTE\n",
        "y_smote.value_counts().plot(kind='bar', title='Target variable after SMOTE')"
      ],
      "metadata": {
        "id": "xD9g9og6hoiw"
      },
      "execution_count": null,
      "outputs": []
    },
    {
      "cell_type": "markdown",
      "source": [
        "We have successfully oversampled the minority class using SMOTE. Now the model we build will be able to learn from both the classes without any bias."
      ],
      "metadata": {
        "id": "mX-V8rvGhvmo"
      }
    },
    {
      "cell_type": "markdown",
      "source": [
        " **Scaling the data:**\n",
        "\n",
        "Since the predictions from the distance based models will get affected if the attributes are in different ranges, we need to scale them.\n",
        "We can use StandardScaler to scale down the variables.\n",
        "The results obtained from scaling can be stored and used while building those models.\n",
        "Tree algorithms do not necessarily require scaling."
      ],
      "metadata": {
        "id": "pk2S4nTaR68F"
      }
    },
    {
      "cell_type": "code",
      "source": [
        "# Scaling data\n",
        "scaler = StandardScaler()\n",
        "\n",
        "X_train_scaled = scaler.fit_transform(X_train)\n",
        "X_smote_scaled = scaler.fit_transform(X_smote)\n",
        "X_test_scaled = scaler.transform(X_test)\n",
        "\n",
        "# Converting array to dataframe\n",
        "X_train_scaled = pd.DataFrame(X_train_scaled,columns=X_train.columns)\n",
        "X_smote_scaled = pd.DataFrame(X_smote_scaled,columns=X_smote.columns)\n",
        "X_test_scaled = pd.DataFrame(X_test_scaled,columns=X_test.columns)"
      ],
      "metadata": {
        "id": "zBPfmblEbiC4"
      },
      "execution_count": null,
      "outputs": []
    },
    {
      "cell_type": "code",
      "source": [
        "# Scaled train values\n",
        "X_train_scaled.head()"
      ],
      "metadata": {
        "id": "Fp3F6JffSt6y"
      },
      "execution_count": null,
      "outputs": []
    },
    {
      "cell_type": "code",
      "source": [
        "# scaled SMOTE values\n",
        "X_smote_scaled.head()"
      ],
      "metadata": {
        "id": "y-hxEw6hSt0P"
      },
      "execution_count": null,
      "outputs": []
    },
    {
      "cell_type": "code",
      "source": [
        "# scaled test values\n",
        "X_test_scaled.head()"
      ],
      "metadata": {
        "id": "OOajs8WbStrT"
      },
      "execution_count": null,
      "outputs": []
    },
    {
      "cell_type": "markdown",
      "source": [
        "We have successfully scaled down the variables using standard scaler."
      ],
      "metadata": {
        "id": "n16_yf_ETMlj"
      }
    },
    {
      "cell_type": "markdown",
      "source": [
        " **ML Model Implementation**\n",
        "\n",
        "\n",
        " Logistic Regression"
      ],
      "metadata": {
        "id": "R75Cejk4TUKY"
      }
    },
    {
      "cell_type": "code",
      "source": [
        "# ML Model - 1 Implementation\n",
        "\n",
        "# Fit the Algorithm\n",
        "\n",
        "# Predict on the model"
      ],
      "metadata": {
        "id": "VGB1YQudTO08"
      },
      "execution_count": null,
      "outputs": []
    },
    {
      "cell_type": "code",
      "source": [
        "# Fitting model\n",
        "lr_model = LogisticRegression()"
      ],
      "metadata": {
        "id": "zunnTmxnTOwG"
      },
      "execution_count": null,
      "outputs": []
    },
    {
      "cell_type": "code",
      "source": [
        "# training the model\n",
        "lr_model.fit(X_smote_scaled, y_smote.values.ravel())"
      ],
      "metadata": {
        "id": "fl6QQBHWTOsX"
      },
      "execution_count": null,
      "outputs": []
    },
    {
      "cell_type": "code",
      "source": [
        "from sklearn.metrics import recall_score\n",
        "\n",
        "# Train predictions\n",
        "lr_train_pred = lr_model.predict(X_smote_scaled)"
      ],
      "metadata": {
        "id": "oLdRGH8cTOn_"
      },
      "execution_count": null,
      "outputs": []
    },
    {
      "cell_type": "code",
      "source": [
        "# training set recall\n",
        "lr_train_recall = recall(y_smote,lr_train_pred)\n",
        "lr_train_recall"
      ],
      "metadata": {
        "id": "s4N1TBDLU3Bx"
      },
      "execution_count": null,
      "outputs": []
    },
    {
      "cell_type": "code",
      "source": [
        "# Check for NaN values in X_test_scaled\n",
        "print(X_test_scaled.isnull().sum())\n"
      ],
      "metadata": {
        "id": "VWz9bAHzWNpf"
      },
      "execution_count": null,
      "outputs": []
    },
    {
      "cell_type": "code",
      "source": [
        "from sklearn.impute import SimpleImputer\n",
        "\n",
        "# Initialize the imputer\n",
        "imputer = SimpleImputer(strategy='mean')\n",
        "\n",
        "# Fit and transform the imputer on X_test_scaled\n",
        "X_test_scaled_imputed = pd.DataFrame(imputer.fit_transform(X_test_scaled), columns=X_test_scaled.columns)\n",
        "\n",
        "# Now you can use X_test_scaled_imputed for making predictions\n",
        "lr_test_pred = lr_model.predict(X_test_scaled_imputed)\n"
      ],
      "metadata": {
        "id": "2KoPBpHHWgBT"
      },
      "execution_count": null,
      "outputs": []
    },
    {
      "cell_type": "code",
      "source": [
        "# Test predictions\n",
        "lr_test_pred = lr_model.predict(X_test_scaled_imputed)"
      ],
      "metadata": {
        "id": "hE7_2z-IU23p"
      },
      "execution_count": null,
      "outputs": []
    },
    {
      "cell_type": "code",
      "source": [
        "# Test recall\n",
        "lr_test_recall = recall(y_test,lr_test_pred)\n",
        "lr_test_recall"
      ],
      "metadata": {
        "id": "0mxam3nGU2ue"
      },
      "execution_count": null,
      "outputs": []
    },
    {
      "cell_type": "code",
      "source": [
        "# Classification report\n",
        "print(classification_report(y_test,lr_test_pred))"
      ],
      "metadata": {
        "id": "qvKr4dpYXEIp"
      },
      "execution_count": null,
      "outputs": []
    },
    {
      "cell_type": "code",
      "source": [
        "# Confusion matrix\n",
        "from sklearn.metrics import confusion_matrix as cm\n",
        "from sklearn.metrics import ConfusionMatrixDisplay as cmd\n",
        "lr_confusion_matrix = cm(y_test, lr_test_pred)\n",
        "cm_display = cmd(confusion_matrix = lr_confusion_matrix, display_labels = [False, True])\n",
        "\n",
        "font = {'family' : 'DejaVu Sans',\n",
        "        'weight' : 'bold',\n",
        "        'size'   : 22}\n",
        "plt.rc('font', **font)\n",
        "\n",
        "cm_display.plot(cmap='Oranges')\n",
        "plt.title('Confusion matrix: LOGISTIC REGRESSION')\n",
        "plt.show()"
      ],
      "metadata": {
        "id": "8GBG2Z9VXf14"
      },
      "execution_count": null,
      "outputs": []
    },
    {
      "cell_type": "markdown",
      "source": [
        "**K Nearest Neighbors:**"
      ],
      "metadata": {
        "id": "1icwfPiZYQ6J"
      }
    },
    {
      "cell_type": "code",
      "source": [
        "from sklearn.neighbors import KNeighborsClassifier\n",
        "# Value of k taken upto sqrt(n)\n",
        "# Where n is no of records in the train dataset\n",
        "# sqrt(4030) = 63.48\n",
        "knn_test_res = []\n",
        "knn_train_res = []\n",
        "for k in range(1,65):\n",
        "  knn_model = KNeighborsClassifier(n_neighbors=k)\n",
        "  knn_model.fit(X_smote_scaled, y_smote.values.ravel())\n",
        "  knn_train_pred = knn_model.predict(X_smote_scaled)\n",
        "  knn_train_recall = recall(y_smote,knn_train_pred)\n",
        "  knn_test_pred = knn_model.predict(X_test_scaled_imputed)\n",
        "  knn_test_recall = recall(y_test,knn_test_pred)\n",
        "  knn_test_res.append(knn_test_recall)\n",
        "  knn_train_res.append(knn_train_recall)"
      ],
      "metadata": {
        "id": "SQueYzk-Xftv"
      },
      "execution_count": null,
      "outputs": []
    },
    {
      "cell_type": "code",
      "source": [
        "# Plotting the train and test recalls for different values of k\n",
        "plt.figure(figsize=(10,5))\n",
        "x_ = range(1,65)\n",
        "y1 = knn_train_res\n",
        "y2 = knn_test_res\n",
        "plt.plot(x_, y1, label='Train Recall')\n",
        "plt.plot(x_, y2, label = 'Test Recall')\n",
        "plt.xlabel('K')\n",
        "plt.ylabel('Recall')\n",
        "plt.legend()\n",
        "plt.show()\n"
      ],
      "metadata": {
        "id": "UcNlcqDAXfnl"
      },
      "execution_count": null,
      "outputs": []
    },
    {
      "cell_type": "code",
      "source": [
        "# Best k is where the test recall is the highest\n",
        "best_k = knn_test_res.index(max(knn_test_res))+1\n",
        "best_k"
      ],
      "metadata": {
        "id": "lMDsKg-iXfh8"
      },
      "execution_count": null,
      "outputs": []
    },
    {
      "cell_type": "code",
      "source": [
        "# building knn model with best parameters\n",
        "knn_model = KNeighborsClassifier(n_neighbors=best_k)"
      ],
      "metadata": {
        "id": "eLYxs7rzdLor"
      },
      "execution_count": null,
      "outputs": []
    },
    {
      "cell_type": "code",
      "source": [
        "# training the model\n",
        "knn_model.fit(X_smote_scaled, y_smote.values.ravel())"
      ],
      "metadata": {
        "id": "ajrhnAQPdTv9"
      },
      "execution_count": null,
      "outputs": []
    },
    {
      "cell_type": "code",
      "source": [
        "# Train predictions\n",
        "knn_train_pred = knn_model.predict(X_smote_scaled)"
      ],
      "metadata": {
        "id": "wdxYUjlydTi2"
      },
      "execution_count": null,
      "outputs": []
    },
    {
      "cell_type": "code",
      "source": [
        "# training set recall\n",
        "knn_train_recall = recall(y_smote,knn_train_pred)\n",
        "knn_train_recall"
      ],
      "metadata": {
        "id": "IPDrWkGDdTVv"
      },
      "execution_count": null,
      "outputs": []
    },
    {
      "cell_type": "code",
      "source": [
        "# Test predictions\n",
        "knn_test_pred = knn_model.predict(X_test_scaled_imputed)"
      ],
      "metadata": {
        "id": "xXykWUd0dTEL"
      },
      "execution_count": null,
      "outputs": []
    },
    {
      "cell_type": "code",
      "source": [
        "# Test recall\n",
        "knn_test_recall = recall(y_test,knn_test_pred)\n",
        "knn_test_recall"
      ],
      "metadata": {
        "id": "cppfrl74f-Kk"
      },
      "execution_count": null,
      "outputs": []
    },
    {
      "cell_type": "code",
      "source": [
        "# Classification report\n",
        "print(classification_report(y_test,knn_test_pred))"
      ],
      "metadata": {
        "id": "AokLMJF1f-E9"
      },
      "execution_count": null,
      "outputs": []
    },
    {
      "cell_type": "code",
      "source": [
        "# Confusion matrix\n",
        "knn_confusion_matrix = cm(y_test, knn_test_pred)\n",
        "cm_display = cmd(confusion_matrix = knn_confusion_matrix, display_labels = [False, True])\n",
        "\n",
        "font = {'family' : 'DejaVu Sans',\n",
        "        'weight' : 'bold',\n",
        "        'size'   : 22}\n",
        "plt.rc('font', **font)\n",
        "\n",
        "cm_display.plot(cmap='Oranges')\n",
        "plt.title('Confusion matrix: K NEAREST NEIGHBORS')\n",
        "plt.show()"
      ],
      "metadata": {
        "id": "bzWh-GY4f9_1"
      },
      "execution_count": null,
      "outputs": []
    },
    {
      "cell_type": "markdown",
      "source": [
        "**Naive Bayes:**"
      ],
      "metadata": {
        "id": "-7i61zAChDSj"
      }
    },
    {
      "cell_type": "code",
      "source": [
        "from sklearn.model_selection import RepeatedStratifiedKFold\n",
        "# Using stratified k fold cross validation so that each split\n",
        "# has almost equal proportion of classification results\n",
        "cv_method = RepeatedStratifiedKFold(n_splits=4,\n",
        "                                    n_repeats=3,\n",
        "                                    random_state=0)"
      ],
      "metadata": {
        "id": "gyfWufB8hIn4"
      },
      "execution_count": null,
      "outputs": []
    },
    {
      "cell_type": "code",
      "source": [
        "from sklearn.naive_bayes import GaussianNB\n",
        "# Fitting model\n",
        "nb_model = GaussianNB()"
      ],
      "metadata": {
        "id": "sIGCKGmChIjY"
      },
      "execution_count": null,
      "outputs": []
    },
    {
      "cell_type": "code",
      "source": [
        "# Max depth of dt without hyperparameter tuning = 28 and min samples leaf = 1\n",
        "nb_model = GaussianNB()\n",
        "nb_params = {'var_smoothing': np.logspace(0,-9, num=100)\n",
        "             }"
      ],
      "metadata": {
        "id": "K4mBSPnPhIfs"
      },
      "execution_count": null,
      "outputs": []
    },
    {
      "cell_type": "code",
      "source": [
        "nb_gridsearch = GridSearchCV(nb_model,\n",
        "                             nb_params,\n",
        "                             cv=cv_method,\n",
        "                             scoring= 'recall')\n",
        "nb_gridsearch.fit(X_smote_scaled,y_smote.values.ravel())\n",
        "nb_best_params = nb_gridsearch.best_params_"
      ],
      "metadata": {
        "id": "Z33Za7_bhIaW"
      },
      "execution_count": null,
      "outputs": []
    },
    {
      "cell_type": "code",
      "source": [
        "# model best parameters\n",
        "nb_best_params"
      ],
      "metadata": {
        "id": "H97UX7oqj08-"
      },
      "execution_count": null,
      "outputs": []
    },
    {
      "cell_type": "code",
      "source": [
        "\n",
        "# building knn model with best parameters\n",
        "nb_model = GaussianNB(var_smoothing=nb_best_params['var_smoothing'])"
      ],
      "metadata": {
        "id": "_TdIrJ4Nj0yu"
      },
      "execution_count": null,
      "outputs": []
    },
    {
      "cell_type": "code",
      "source": [
        "# training the model\n",
        "nb_model.fit(X_smote_scaled, y_smote.values.ravel())"
      ],
      "metadata": {
        "id": "Ecy1tyZmj0oz"
      },
      "execution_count": null,
      "outputs": []
    },
    {
      "cell_type": "code",
      "source": [
        "# Train predictions\n",
        "nb_train_pred = nb_model.predict(X_smote_scaled)"
      ],
      "metadata": {
        "id": "v5VXNSJUj0bd"
      },
      "execution_count": null,
      "outputs": []
    },
    {
      "cell_type": "code",
      "source": [
        "# training set recall\n",
        "nb_train_recall = recall(y_smote,nb_train_pred)\n",
        "nb_train_recall"
      ],
      "metadata": {
        "id": "nRDoqqZLj0NH"
      },
      "execution_count": null,
      "outputs": []
    },
    {
      "cell_type": "code",
      "source": [
        "\n",
        "# Test predictions\n",
        "nb_test_pred = nb_model.predict(X_test_scaled_imputed)"
      ],
      "metadata": {
        "id": "Mx3q0lwXlF8u"
      },
      "execution_count": null,
      "outputs": []
    },
    {
      "cell_type": "code",
      "source": [
        "# Test recall\n",
        "nb_test_recall = recall(y_test,nb_test_pred)\n",
        "nb_test_recall"
      ],
      "metadata": {
        "id": "ZbMkyFqXlFsu"
      },
      "execution_count": null,
      "outputs": []
    },
    {
      "cell_type": "code",
      "source": [
        "# Classification report\n",
        "print(classification_report(y_test,nb_test_pred))"
      ],
      "metadata": {
        "id": "8triEDFvlFe6"
      },
      "execution_count": null,
      "outputs": []
    },
    {
      "cell_type": "code",
      "source": [
        "# Confusion matrix\n",
        "nb_confusion_matrix = cm(y_test, nb_test_pred)\n",
        "cm_display = cmd(confusion_matrix = nb_confusion_matrix, display_labels = [False, True])\n",
        "\n",
        "font = {'family' : 'DejaVu Sans',\n",
        "        'weight' : 'bold',\n",
        "        'size'   : 22}\n",
        "plt.rc('font', **font)\n",
        "\n",
        "cm_display.plot(cmap='Oranges')\n",
        "plt.title('Confusion matrix: NAIVE BAYES')\n",
        "plt.show()"
      ],
      "metadata": {
        "id": "t1uahpzrmK4X"
      },
      "execution_count": null,
      "outputs": []
    },
    {
      "cell_type": "markdown",
      "source": [
        "**Decision tree:**"
      ],
      "metadata": {
        "id": "lHCUOTcUmUKU"
      }
    },
    {
      "cell_type": "code",
      "source": [
        "# Max depth of dt without hyperparameter tuning = 28 and min samples leaf = 1\n",
        "dt_model = DecisionTreeClassifier()\n",
        "dt_params = {\n",
        "    'max_depth': np.arange(1, 10),\n",
        "    'min_samples_split': np.linspace(0.1, 1.0, 10, endpoint=True),\n",
        "    'min_samples_leaf': np.linspace(0.1, 0.5, 5, endpoint=True)\n",
        "}"
      ],
      "metadata": {
        "id": "rjmNBKZw-CxC"
      },
      "execution_count": null,
      "outputs": []
    },
    {
      "cell_type": "code",
      "source": [
        "# using gridsearchcv to find best parameters\n",
        "dt_gridsearch = GridSearchCV(dt_model,\n",
        "                             dt_params,\n",
        "                             cv=cv_method,\n",
        "                             scoring= 'recall')\n",
        "dt_gridsearch.fit(X_smote,y_smote)\n",
        "dt_best_params = dt_gridsearch.best_params_"
      ],
      "metadata": {
        "id": "IcA_ereh-Cji"
      },
      "execution_count": null,
      "outputs": []
    },
    {
      "cell_type": "code",
      "source": [
        "# model best parameters\n",
        "dt_best_params\n"
      ],
      "metadata": {
        "id": "TGNh5dMW-CXt"
      },
      "execution_count": null,
      "outputs": []
    },
    {
      "cell_type": "code",
      "source": [
        "# building knn model with best parameters\n",
        "dt_model = DecisionTreeClassifier(max_depth=dt_best_params['max_depth'],\n",
        "                                  min_samples_split=dt_best_params['min_samples_split'],\n",
        "                                  min_samples_leaf=dt_best_params['min_samples_leaf'])"
      ],
      "metadata": {
        "id": "ASjQRxgh-CMu"
      },
      "execution_count": null,
      "outputs": []
    },
    {
      "cell_type": "code",
      "source": [
        "# training the model\n",
        "dt_model.fit(X_smote_scaled, y_smote)"
      ],
      "metadata": {
        "id": "Kc_Vv8TA_xEq"
      },
      "execution_count": null,
      "outputs": []
    },
    {
      "cell_type": "code",
      "source": [
        "\n",
        "# Train predictions\n",
        "dt_train_pred = dt_model.predict(X_smote_scaled)"
      ],
      "metadata": {
        "id": "Ce8EmnuV_w4G"
      },
      "execution_count": null,
      "outputs": []
    },
    {
      "cell_type": "code",
      "source": [
        "# training set recall\n",
        "dt_train_recall = recall(y_smote,dt_train_pred)\n",
        "dt_train_recall"
      ],
      "metadata": {
        "id": "g_Zhtqx9_wph"
      },
      "execution_count": null,
      "outputs": []
    },
    {
      "cell_type": "code",
      "source": [
        "# Test predictions\n",
        "dt_test_pred = dt_model.predict(X_test_scaled_imputed)"
      ],
      "metadata": {
        "id": "h4QecyLJ_wdh"
      },
      "execution_count": null,
      "outputs": []
    },
    {
      "cell_type": "code",
      "source": [
        "# Test recall\n",
        "dt_test_recall = recall(y_test,dt_test_pred)\n",
        "dt_test_recall"
      ],
      "metadata": {
        "id": "x296E5WhBB6L"
      },
      "execution_count": null,
      "outputs": []
    },
    {
      "cell_type": "code",
      "source": [
        "# Classification report\n",
        "print(classification_report(y_test,dt_test_pred))"
      ],
      "metadata": {
        "id": "3lUMGVmLBB2D"
      },
      "execution_count": null,
      "outputs": []
    },
    {
      "cell_type": "code",
      "source": [
        "# Feature importances\n",
        "\n",
        "dt_feat_imp = pd.Series(dt_model.feature_importances_, index=X.columns)\n",
        "plt.figure(figsize=(10,5))\n",
        "plt.title('Feature Importances: DECISION TREE')\n",
        "plt.xlabel('Relative Importance')\n",
        "dt_feat_imp.nlargest(20).plot(kind='barh')"
      ],
      "metadata": {
        "id": "leTmLPhFBBxR"
      },
      "execution_count": null,
      "outputs": []
    },
    {
      "cell_type": "code",
      "source": [
        "# Confusion matrix\n",
        "dt_confusion_matrix = cm(y_test, dt_test_pred)\n",
        "cm_display = cmd(confusion_matrix = dt_confusion_matrix, display_labels = [False, True])\n",
        "\n",
        "font = {'family' : 'DejaVu Sans',\n",
        "        'weight' : 'bold',\n",
        "        'size'   : 22}\n",
        "plt.rc('font', **font)\n",
        "\n",
        "cm_display.plot(cmap='Oranges')\n",
        "plt.title('Confusion matrix: DECISION TREE')\n",
        "plt.show()"
      ],
      "metadata": {
        "id": "vcWNTjW0BBtv"
      },
      "execution_count": null,
      "outputs": []
    },
    {
      "cell_type": "markdown",
      "source": [
        "# **Support Vector Machines:**"
      ],
      "metadata": {
        "id": "9p97c84pEgaz"
      }
    },
    {
      "cell_type": "code",
      "source": [
        "# SVM model parameters\n",
        "svm_model = SVC()\n",
        "svm_params = {'C': [0.1, 1, 10],\n",
        "              'gamma': [0.01, 0.001, 0.0001],\n",
        "              'kernel': ['rbf']\n",
        "             }"
      ],
      "metadata": {
        "id": "sDbxiEOfBBpb"
      },
      "execution_count": null,
      "outputs": []
    },
    {
      "cell_type": "code",
      "source": [
        "# Using gridsearchcv to find best parameters\n",
        "svm_gridsearch = GridSearchCV(svm_model,\n",
        "                              svm_params,\n",
        "                              cv=cv_method,\n",
        "                              scoring= 'recall')\n",
        "svm_gridsearch.fit(X_smote_scaled,y_smote.values.ravel())\n",
        "svm_best_params = svm_gridsearch.best_params_"
      ],
      "metadata": {
        "id": "7AZoNdM4Hb3q"
      },
      "execution_count": null,
      "outputs": []
    },
    {
      "cell_type": "code",
      "source": [
        "# model best parameters\n",
        "svm_best_params"
      ],
      "metadata": {
        "id": "KmjrfWZnHbx-"
      },
      "execution_count": null,
      "outputs": []
    },
    {
      "cell_type": "code",
      "source": [
        "# building knn model with best parameters\n",
        "svm_model = SVC(C=svm_best_params['C'],\n",
        "                gamma=svm_best_params['gamma'],\n",
        "                kernel=svm_best_params['kernel']\n",
        "                )"
      ],
      "metadata": {
        "id": "-cAPa0dHHbrE"
      },
      "execution_count": null,
      "outputs": []
    },
    {
      "cell_type": "code",
      "source": [
        "# training the model\n",
        "svm_model.fit(X_smote_scaled, y_smote.values.ravel())"
      ],
      "metadata": {
        "id": "nt4I4QztI-ix"
      },
      "execution_count": null,
      "outputs": []
    },
    {
      "cell_type": "code",
      "source": [
        "# Train predictions\n",
        "svm_train_pred = svm_model.predict(X_smote_scaled)"
      ],
      "metadata": {
        "id": "r4oMDV97I-es"
      },
      "execution_count": null,
      "outputs": []
    },
    {
      "cell_type": "code",
      "source": [
        "\n",
        "# training set recall\n",
        "svm_train_recall = recall(y_smote,svm_train_pred)\n",
        "svm_train_recall"
      ],
      "metadata": {
        "id": "4-gZUP6tI-af"
      },
      "execution_count": null,
      "outputs": []
    },
    {
      "cell_type": "code",
      "source": [
        "\n",
        "# Test predictions\n",
        "svm_test_pred = svm_model.predict(X_test_scaled_imputed)"
      ],
      "metadata": {
        "id": "isXYAyXCI-U4"
      },
      "execution_count": null,
      "outputs": []
    },
    {
      "cell_type": "code",
      "source": [
        "# Test recall\n",
        "svm_test_recall = recall(y_test,svm_test_pred)\n",
        "svm_test_recall"
      ],
      "metadata": {
        "id": "4Mj6V117I-Qz"
      },
      "execution_count": null,
      "outputs": []
    },
    {
      "cell_type": "code",
      "source": [
        "# Classification report\n",
        "print(classification_report(y_test,svm_test_pred))"
      ],
      "metadata": {
        "id": "0ZTlSgwSI-J6"
      },
      "execution_count": null,
      "outputs": []
    },
    {
      "cell_type": "code",
      "source": [
        "# Confusion matrix\n",
        "svm_confusion_matrix = cm(y_test, svm_test_pred)\n",
        "cm_display = cmd(confusion_matrix = svm_confusion_matrix, display_labels = [False, True])\n",
        "\n",
        "font = {'family' : 'DejaVu Sans',\n",
        "        'weight' : 'bold',\n",
        "        'size'   : 22}\n",
        "plt.rc('font', **font)\n",
        "\n",
        "cm_display.plot(cmap='Oranges')\n",
        "plt.title('Confusion matrix: SUPPORT VECTOR MACHINES')\n",
        "plt.show()"
      ],
      "metadata": {
        "id": "bh0_sc7PKII9"
      },
      "execution_count": null,
      "outputs": []
    },
    {
      "cell_type": "markdown",
      "source": [
        "# **Random forests:**"
      ],
      "metadata": {
        "id": "s81JE770K4zx"
      }
    },
    {
      "cell_type": "code",
      "source": [
        "# random forest model\n",
        "rf_model = RandomForestClassifier(random_state=0)\n",
        "rf_params = {'n_estimators':[500],                    # limited due to computational power availability\n",
        "             'max_depth':np.arange(1,6),\n",
        "             'min_samples_split':np.arange(0.1,1,0.1),\n",
        "             'min_samples_leaf':np.arange(0.1,0.6,0.1)}"
      ],
      "metadata": {
        "id": "63htHDJOK9Ic"
      },
      "execution_count": null,
      "outputs": []
    },
    {
      "cell_type": "code",
      "source": [
        "# using gridsearchcv to find best parameters\n",
        "# Random Forest model\n",
        "rf_model = RandomForestClassifier(random_state=0)\n",
        "rf_params = {'n_estimators': [100],  # Limit the number of estimators for faster computation\n",
        "             'max_depth': [5, 10],       # Reduce the number of values to search\n",
        "             'min_samples_split': [0.1, 0.3],  # Reduce the number of values to search\n",
        "             'min_samples_leaf': [0.1, 0.3]}   # Reduce the number of values to search\n",
        "\n",
        "rf_gridsearch = GridSearchCV(rf_model, rf_params, cv=cv_method, scoring='recall', n_jobs=-1)\n",
        "rf_gridsearch.fit(X_smote, y_smote.values.ravel())\n",
        "rf_best_params = rf_gridsearch.best_params_\n"
      ],
      "metadata": {
        "id": "ABLUG5AvK9RH"
      },
      "execution_count": null,
      "outputs": []
    },
    {
      "cell_type": "code",
      "source": [
        "\n",
        "# best parameters for random forests\n",
        "rf_best_params"
      ],
      "metadata": {
        "id": "lqzUkaQtKIDy"
      },
      "execution_count": null,
      "outputs": []
    },
    {
      "cell_type": "code",
      "source": [
        "# Fitting RF model with best parameters\n",
        "rf_model = RandomForestClassifier(n_estimators=rf_best_params['n_estimators'],\n",
        "                                  min_samples_leaf=rf_best_params['min_samples_leaf'],\n",
        "                                  min_samples_split=rf_best_params['min_samples_split'],\n",
        "                                  max_depth=rf_best_params['max_depth'],\n",
        "                                  random_state=0)"
      ],
      "metadata": {
        "id": "g-7GJxPUQxE6"
      },
      "execution_count": null,
      "outputs": []
    },
    {
      "cell_type": "code",
      "source": [
        "# fit\n",
        "rf_model.fit(X_smote,y_smote.values.ravel())\n",
        "# train predictions\n",
        "rf_train_pred = rf_model.predict(X_smote)"
      ],
      "metadata": {
        "id": "VAT61H4kQxA4"
      },
      "execution_count": null,
      "outputs": []
    },
    {
      "cell_type": "code",
      "source": [
        "# train recall\n",
        "rf_train_recall = recall(y_smote,rf_train_pred)\n",
        "rf_train_recall"
      ],
      "metadata": {
        "id": "fMzqNJdWQw2h"
      },
      "execution_count": null,
      "outputs": []
    },
    {
      "cell_type": "code",
      "source": [
        "# Test predictions\n",
        "rf_test_pred = rf_model.predict(X_test_scaled_imputed)"
      ],
      "metadata": {
        "id": "K2VZT4uuQww2"
      },
      "execution_count": null,
      "outputs": []
    },
    {
      "cell_type": "code",
      "source": [
        "from sklearn.metrics import recall_score\n",
        "# test recall\n",
        "rf_test_recall = recall(y_test,rf_test_pred)\n",
        "rf_test_recall"
      ],
      "metadata": {
        "id": "ITDaIxjuSuFu"
      },
      "execution_count": null,
      "outputs": []
    },
    {
      "cell_type": "code",
      "source": [
        "# Classification report\n",
        "print(classification_report(y_test,rf_test_pred))"
      ],
      "metadata": {
        "id": "CBYw1na7St_m"
      },
      "execution_count": null,
      "outputs": []
    },
    {
      "cell_type": "code",
      "source": [
        "# Feature importances\n",
        "\n",
        "rf_feat_imp = pd.Series(rf_model.feature_importances_, index=X.columns)\n",
        "plt.figure(figsize=(10,5))\n",
        "plt.title('Feature Importances: RANDOM FORESTS')\n",
        "plt.xlabel('Relative Importance')\n",
        "rf_feat_imp.nlargest(20).plot(kind='barh')"
      ],
      "metadata": {
        "id": "lkHTtsATSt5y"
      },
      "execution_count": null,
      "outputs": []
    },
    {
      "cell_type": "code",
      "source": [
        "# Confusion matrix\n",
        "rf_confusion_matrix = cm(y_test, rf_test_pred)\n",
        "cm_display = cmd(confusion_matrix = rf_confusion_matrix, display_labels = [False, True])\n",
        "\n",
        "font = {'family' : 'DejaVu Sans',\n",
        "        'weight' : 'bold',\n",
        "        'size'   : 22}\n",
        "plt.rc('font', **font)\n",
        "\n",
        "cm_display.plot(cmap='Oranges')\n",
        "plt.title('Confusion matrix: RANDOM FORESTS')\n",
        "plt.show()"
      ],
      "metadata": {
        "id": "VPyxy4JDZfD-"
      },
      "execution_count": null,
      "outputs": []
    },
    {
      "cell_type": "markdown",
      "source": [
        "# **XG Boost:**"
      ],
      "metadata": {
        "id": "QgYrpki8g2Q_"
      }
    },
    {
      "cell_type": "code",
      "source": [
        "# XGBoost model\n",
        "import xgboost as xgb\n",
        "# XGBoost model\n",
        "xgb_model = xgb.XGBClassifier(random_state=0)\n",
        "xgb_params = {'n_estimators': [100],  # Limit the number of estimators for faster computation\n",
        "              'max_depth': [1],       # Reduce the number of values to search\n",
        "              'learning_rate': [0.1],  # Add a learning rate parameter\n",
        "              }\n",
        "\n",
        "xgb_gridsearch = GridSearchCV(xgb_model, xgb_params, cv=cv_method, scoring='recall', n_jobs=-1)\n",
        "xgb_gridsearch.fit(X_smote, y_smote.values.ravel())\n",
        "xgb_best_params = xgb_gridsearch.best_params_\n",
        "\n"
      ],
      "metadata": {
        "id": "eDpNzE5cZe7z"
      },
      "execution_count": null,
      "outputs": []
    },
    {
      "cell_type": "code",
      "source": [
        "# using gridsearchcv to find best parameters\n",
        "xgb_gridsearch = GridSearchCV(xgb_model,xgb_params,cv=cv_method,scoring='recall')\n",
        "xgb_gridsearch.fit(X_smote_scaled,y_smote)\n",
        "xgb_best_params = xgb_gridsearch.best_params_"
      ],
      "metadata": {
        "id": "a8AkJVsFjft-"
      },
      "execution_count": null,
      "outputs": []
    },
    {
      "cell_type": "code",
      "source": [
        "xgb_best_params\n",
        "{'max_depth': 1,\n",
        " 'min_samples_leaf': 0.1,\n",
        " 'min_samples_split': 0.1,\n",
        " 'n_estimators': 500}"
      ],
      "metadata": {
        "id": "FJ8cSyqnjfoF"
      },
      "execution_count": null,
      "outputs": []
    },
    {
      "cell_type": "code",
      "source": [
        "# Fitting xgb with best parameters\n",
        "# Fitting xgb with best parameters\n",
        "xgb_model = xgb.XGBClassifier(n_estimators=xgb_best_params['n_estimators'],\n",
        "                               max_depth=xgb_best_params['max_depth'],\n",
        "                               learning_rate=xgb_best_params['learning_rate'],\n",
        "                               random_state=0)\n"
      ],
      "metadata": {
        "id": "nunOEIzqjfhX"
      },
      "execution_count": null,
      "outputs": []
    },
    {
      "cell_type": "code",
      "source": [
        "\n",
        "# fit\n",
        "xgb_model.fit(X_smote_scaled,y_smote)"
      ],
      "metadata": {
        "id": "5PZ3KEoKjfbT"
      },
      "execution_count": null,
      "outputs": []
    },
    {
      "cell_type": "code",
      "source": [
        "# train predictions\n",
        "xgb_train_pred = xgb_model.predict(X_smote_scaled)\n",
        "xgb_train_pred = [round(value) for value in xgb_train_pred]"
      ],
      "metadata": {
        "id": "MGlIE9X3pewF"
      },
      "execution_count": null,
      "outputs": []
    },
    {
      "cell_type": "code",
      "source": [
        "# train recall\n",
        "xgb_train_recall = recall(y_smote,xgb_train_pred)\n",
        "xgb_train_recall"
      ],
      "metadata": {
        "id": "4r_5NDWupeqR"
      },
      "execution_count": null,
      "outputs": []
    },
    {
      "cell_type": "code",
      "source": [
        "# Test predictions\n",
        "xgb_test_pred = xgb_model.predict(X_test_scaled)\n",
        "xgb_test_pred = [round(value) for value in xgb_test_pred]"
      ],
      "metadata": {
        "id": "2In-Bdnipejn"
      },
      "execution_count": null,
      "outputs": []
    },
    {
      "cell_type": "code",
      "source": [
        "# test recall\n",
        "xgb_test_recall = recall(y_test,xgb_test_pred)\n",
        "xgb_test_recall"
      ],
      "metadata": {
        "id": "Ci3RQOsMpeda"
      },
      "execution_count": null,
      "outputs": []
    },
    {
      "cell_type": "code",
      "source": [
        "# Classification report\n",
        "print(classification_report(y_test,xgb_test_pred))"
      ],
      "metadata": {
        "id": "I557zMLup7K4"
      },
      "execution_count": null,
      "outputs": []
    },
    {
      "cell_type": "code",
      "source": [
        "# Feature importances\n",
        "\n",
        "xgb_feat_imp = pd.Series(xgb_model.feature_importances_, index=X.columns)\n",
        "plt.figure(figsize=(10,5))\n",
        "plt.title('Feature Importances: XG BOOST')\n",
        "plt.xlabel('Relative Importance')\n",
        "rf_feat_imp.nlargest(20).plot(kind='barh')"
      ],
      "metadata": {
        "id": "xRjyILh_p6zG"
      },
      "execution_count": null,
      "outputs": []
    },
    {
      "cell_type": "code",
      "source": [
        "print(classification_report(y_test,xgb_test_pred,target_names=['Negative','Positive']))"
      ],
      "metadata": {
        "id": "JYKWWt0op6fm"
      },
      "execution_count": null,
      "outputs": []
    },
    {
      "cell_type": "code",
      "source": [
        "# Confusion matrix\n",
        "xgb_confusion_matrix = cm(y_test, xgb_test_pred)\n",
        "cm_display = cmd(confusion_matrix = xgb_confusion_matrix, display_labels = [False, True])\n",
        "\n",
        "font = {'family' : 'DejaVu Sans',\n",
        "        'weight' : 'bold',\n",
        "        'size'   : 22}\n",
        "plt.rc('font', **font)\n",
        "\n",
        "cm_display.plot(cmap='Oranges')\n",
        "plt.title('Confusion matrix: XG BOOST')\n",
        "plt.show()"
      ],
      "metadata": {
        "id": "cceKywvfqLMi"
      },
      "execution_count": null,
      "outputs": []
    },
    {
      "cell_type": "markdown",
      "source": [
        "# **Results:**"
      ],
      "metadata": {
        "id": "1RHKxf3OqYSq"
      }
    },
    {
      "cell_type": "markdown",
      "source": [
        "The train and test recall scores obtained for different models built are as follows:\n"
      ],
      "metadata": {
        "id": "ooxAM272qgJj"
      }
    },
    {
      "cell_type": "code",
      "source": [
        "!pip install prettytable\n",
        "import xgboost as xgb\n",
        "\n",
        "# Summarizing the results obtained\n",
        "from prettytable import PrettyTable\n",
        "\n",
        "# Summarizing the results obtained\n",
        "test = PrettyTable(['Sl. No.','Classification Model', 'Train Recall (%)','Test Recall (%)'])\n",
        "test.add_row(['1','Logistic Regression',lr_train_recall*100,lr_test_recall*100])\n",
        "test.add_row(['2','K Nearest Neighbors',knn_train_recall*100,knn_test_recall*100])\n",
        "test.add_row(['3','Naive Bayes',nb_train_recall*100,nb_test_recall*100])\n",
        "test.add_row(['4','Decision Tree',dt_train_recall*100,dt_test_recall*100])\n",
        "test.add_row(['5','Random Forest',rf_train_recall*100,rf_test_recall*100])\n",
        "test.add_row(['6','Support Vector Machines',svm_train_recall*100,svm_test_recall*100])\n",
        "test.add_row(['7','XGBoost',xgb_train_recall*100,xgb_test_recall*100])\n",
        "\n",
        "print(test)\n"
      ],
      "metadata": {
        "id": "4aEnPAoyqkqY"
      },
      "execution_count": null,
      "outputs": []
    },
    {
      "cell_type": "code",
      "source": [
        "\n",
        "# Plotting Recall scores\n",
        "\n",
        "ML_models = ['Logistic Regression','K Nearest Neighbors','Naive Bayes','Decision Tree','Support Vector Machines','Random Forests','XG Boost']\n",
        "train_recalls = [lr_train_recall,knn_train_recall,nb_train_recall,dt_train_recall,svm_train_recall,rf_train_recall,xgb_train_recall]\n",
        "test_recalls = [lr_test_recall,knn_test_recall,nb_test_recall,dt_test_recall,svm_test_recall,rf_test_recall,xgb_test_recall]\n",
        "\n",
        "X_axis = np.arange(len(ML_models))\n",
        "\n",
        "plt.figure(figsize=(10,5))\n",
        "plt.barh(X_axis - 0.2, train_recalls, 0.4, label = 'Train Recall')\n",
        "plt.barh(X_axis + 0.2, test_recalls, 0.4, label = 'Test Recall')\n",
        "\n",
        "plt.yticks(X_axis,ML_models)\n",
        "plt.xlabel(\"Recall score\")\n",
        "plt.title(\"Recall score for each model\")\n",
        "plt.legend(bbox_to_anchor=(1.05, 1), loc='upper left',title='Legend')\n",
        "plt.show()"
      ],
      "metadata": {
        "id": "eOLhEMqksswo"
      },
      "execution_count": null,
      "outputs": []
    },
    {
      "cell_type": "markdown",
      "source": [
        "Random forests has the highest recall score on both the train and test sets. This suggests that random forests is the best model for this dataset.\n",
        "Support vector machines and decision trees also have high recall scores on both the train and test sets.\n",
        "\n",
        "Naive Bayes, K nearest neighbors, and logistic regression have lower recall scores on both the train and test sets.\n",
        "\n",
        "The recall scores for the train and test sets are similar for all models, which suggests that the models are not overfitting the data.\n",
        "\n",
        "The high recall scores for random forests, support vector machines, and decision trees suggest that these models are good at identifying positive instances. This is important for this dataset, as it is important to correctly identify all of the positive instances.\n",
        "\n",
        "The lower recall scores for naive Bayes, K nearest neighbors, and logistic regression suggest that these models are not as good at identifying positive instances as the other models. This may be because these models are more simplistic and do not take into account as much information as the other models.\n",
        "\n",
        "The similar recall scores for the train and test sets suggest that the models are not overfitting the data. This is important, as it means that the models are likely to generalize well to new data."
      ],
      "metadata": {
        "id": "Prwx5wj_s1pS"
      }
    },
    {
      "cell_type": "markdown",
      "source": [
        "# **Conclusion**"
      ],
      "metadata": {
        "id": "gCX9965dhzqZ"
      }
    },
    {
      "cell_type": "markdown",
      "source": [
        "We trained 7 Machine Learning models using the training dataset, and hyperparameter tuning was used in some models to improve the model performance.\n",
        "To build the models, missing values were handled, feature engineering and feature selection was performed, and the training dataset was oversampled using SMOTE to reduce bias on one outcome.\n",
        "\n",
        "Recall was chosen as the model evaluation metric because it was very important that we reduce the false negatives.\n",
        "\n",
        "Initial set of predictions were obtained using the baseline model, ie, logistic regression model, and other commonly used classification models were also build in search of better predictions.\n",
        "\n",
        "Predicting the risk of coronary heart disease is critical for reducing fatalities caused by this illness. We can avert deaths by taking the required medications and precautions if we can foresee the danger of this sickness ahead of time.\n",
        "\n",
        "It is critical that the model we develop has a high recall score. It is OK if the model incorrectly identifies a healthy patient as a high risk patient because it will not result in death, but if a high risk patient is incorrectly labelled as healthy, it may result in fatality.\n",
        "\n",
        "We were able to create a model with a recall of just 0.77 because of limitated data available and limited computational power availabe.\n",
        "\n",
        "A recall score of 0.77 indicates that out of 100 individuals with the illness, our model will be able to classify only 77 as high risk patients, while the remaining 33 will be misclassified.\n",
        "\n",
        "Future developments must include a strategy to improve the model recall score, enabling us to save even more lives from this disease. This includes involving more people in the study, and include people with different medical history, etc build an application with better recall score.\n",
        "\n",
        "From our analysis, it is also found that the age of a person was the most important feature in determining the risk of a patient getting infected with CHD, followed by pulse pressure, prevalent hypertension and total cholesterol.\n",
        "Diabetes, prevalent stroke and BP medication were the least important features in determining the risk of CHD."
      ],
      "metadata": {
        "id": "Fjb1IsQkh3yE"
      }
    },
    {
      "cell_type": "markdown",
      "source": [
        "### ***Hurrah! You have successfully completed your Machine Learning Capstone Project !!!***"
      ],
      "metadata": {
        "id": "gIfDvo9L0UH2"
      }
    }
  ]
}